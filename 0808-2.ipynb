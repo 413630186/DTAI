{
 "cells": [
  {
   "cell_type": "code",
   "execution_count": 2,
   "metadata": {},
   "outputs": [
    {
     "name": "stdout",
     "output_type": "stream",
     "text": [
      "在 2 4 2 下 解1= -4.0\n",
      "在 5 4 1 下 解1= (-4+0.2j)\n"
     ]
    }
   ],
   "source": [
    "a=2;b=4;c=2\n",
    "s1=-b+(b**2-4*a*c)**0.5/(2*a)\n",
    "print(\"在\",a,b,c,\"下\", \"解1=\", s1)\n",
    "a=5;b=4;c=1\n",
    "s1=-b+(b**2-4*a*c)**0.5/(2*a)\n",
    "print(\"在\",a,b,c,\"下\", \"解1=\", s1)"
   ]
  },
  {
   "cell_type": "code",
   "execution_count": 3,
   "metadata": {},
   "outputs": [
    {
     "name": "stdout",
     "output_type": "stream",
     "text": [
      "Radius = 5.00\n",
      "circumference = 31.42\n",
      "Area = 78.54\n"
     ]
    }
   ],
   "source": [
    "import math\n",
    "Radius = eval (input())\n",
    "pi=math. pi\n",
    "circumference=(Radius+Radius)*pi\n",
    "Area=Radius*Radius*pi\n",
    "print(\"Radius = {:.2f}\".format(Radius))\n",
    "print(\"circumference = {:.2f}\".format(circumference))\n",
    "print(\"Area = {:.2F}\".format(Area))"
   ]
  },
  {
   "cell_type": "code",
   "execution_count": 5,
   "metadata": {},
   "outputs": [
    {
     "name": "stdout",
     "output_type": "stream",
     "text": [
      "六年後存款為: 119405.22965290002\n"
     ]
    }
   ],
   "source": [
    "本金= int(input(\"請輸入本金存款金額\"))\n",
    "六年後存款為 = 本金*(1+0.03)**6\n",
    "print(\"六年後存款為:\", 六年後存款為)"
   ]
  },
  {
   "cell_type": "code",
   "execution_count": 9,
   "metadata": {},
   "outputs": [
    {
     "name": "stdout",
     "output_type": "stream",
     "text": [
      "-2 是偶數\n"
     ]
    }
   ],
   "source": [
    "num = int(input(\"請輸入一個整數: \"))\n",
    "if (num % 2) == 0:\n",
    "    print(num, \"是偶數\")\n",
    "else:\n",
    "    print(num, \"是奇數\")"
   ]
  },
  {
   "cell_type": "code",
   "execution_count": null,
   "metadata": {},
   "outputs": [],
   "source": []
  }
 ],
 "metadata": {
  "kernelspec": {
   "display_name": "Python 3",
   "language": "python",
   "name": "python3"
  },
  "language_info": {
   "codemirror_mode": {
    "name": "ipython",
    "version": 3
   },
   "file_extension": ".py",
   "mimetype": "text/x-python",
   "name": "python",
   "nbconvert_exporter": "python",
   "pygments_lexer": "ipython3",
   "version": "3.12.4"
  }
 },
 "nbformat": 4,
 "nbformat_minor": 2
}
