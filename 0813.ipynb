{
 "cells": [
  {
   "cell_type": "code",
   "execution_count": 3,
   "metadata": {},
   "outputs": [
    {
     "name": "stdout",
     "output_type": "stream",
     "text": [
      "0813\n"
     ]
    }
   ],
   "source": [
    "print( '0813' )"
   ]
  },
  {
   "cell_type": "code",
   "execution_count": 19,
   "metadata": {},
   "outputs": [
    {
     "ename": "NameError",
     "evalue": "name 'score' is not defined",
     "output_type": "error",
     "traceback": [
      "\u001b[1;31m---------------------------------------------------------------------------\u001b[0m",
      "\u001b[1;31mNameError\u001b[0m                                 Traceback (most recent call last)",
      "Cell \u001b[1;32mIn[19], line 1\u001b[0m\n\u001b[1;32m----> 1\u001b[0m \u001b[38;5;28;01mif\u001b[39;00m( \u001b[43mscore\u001b[49m \u001b[38;5;241m>\u001b[39m\u001b[38;5;241m=\u001b[39m\u001b[38;5;241m60\u001b[39m):\n\u001b[0;32m      2\u001b[0m     grade \u001b[38;5;241m=\u001b[39m \u001b[38;5;124m\"\u001b[39m\u001b[38;5;124m及格\u001b[39m\u001b[38;5;124m\"\u001b[39m\n\u001b[0;32m      3\u001b[0m \u001b[38;5;28msum\u001b[39m \u001b[38;5;241m=\u001b[39m \u001b[38;5;28msum\u001b[39m \u001b[38;5;241m+\u001b[39m  score \n",
      "\u001b[1;31mNameError\u001b[0m: name 'score' is not defined"
     ]
    }
   ],
   "source": [
    "if( score >=60):\n",
    "    grade = \"及格\"\n",
    "sum = sum +  score "
   ]
  },
  {
   "cell_type": "code",
   "execution_count": 8,
   "metadata": {},
   "outputs": [
    {
     "name": "stdout",
     "output_type": "stream",
     "text": [
      "歡迎光臨!\n"
     ]
    }
   ],
   "source": [
    "密碼 =int( input( \"請輸入密碼\") )\n",
    "if 密碼 == 1234:\n",
    "    print(\"歡迎光臨!\")\n",
    "else:\n",
    "    print(\"密碼錯誤\")"
   ]
  },
  {
   "cell_type": "code",
   "execution_count": 11,
   "metadata": {},
   "outputs": [
    {
     "name": "stdout",
     "output_type": "stream",
     "text": [
      "不用帶傘\n"
     ]
    }
   ],
   "source": [
    "rain = input(\"今天會下雨嗎?\")\n",
    "if (rain == \"Y\" or rain == \"y\"):\n",
    "    print(\"出門記得帶雨傘!\")\n",
    "else:\n",
    "    print(\"不用帶傘\")"
   ]
  },
  {
   "cell_type": "code",
   "execution_count": 18,
   "metadata": {},
   "outputs": [
    {
     "name": "stdout",
     "output_type": "stream",
     "text": [
      "你輸入的數字是奇數\n"
     ]
    }
   ],
   "source": [
    "偶數判斷 = int ( input(\"請輸入一個整數\"))\n",
    "if 偶數判斷%2 ==0:\n",
    "    print(\"你輸入的數字是偶數\")\n",
    "else:\n",
    "    print(\"你輸入的數字是奇數\")"
   ]
  },
  {
   "cell_type": "code",
   "execution_count": 36,
   "metadata": {},
   "outputs": [
    {
     "name": "stdout",
     "output_type": "stream",
     "text": [
      "體溫過高!\n"
     ]
    }
   ],
   "source": [
    "體溫判斷 = float (input(\"請輸入體溫?\"))\n",
    "if 體溫判斷 >= 37.5:\n",
    "    print(\"體溫過高!\")\n",
    "elif 37 <= 體溫判斷 <= 37.4:\n",
    "    print(\"體溫略高!\")\n",
    "elif 34 <= 體溫判斷 <= 36.9:\n",
    "    print(\"體溫正常!\")\n",
    "else:\n",
    "    print(\"體溫異常，請重新測量!\") "
   ]
  },
  {
   "cell_type": "code",
   "execution_count": 40,
   "metadata": {},
   "outputs": [
    {
     "name": "stdout",
     "output_type": "stream",
     "text": [
      "A\n"
     ]
    }
   ],
   "source": [
    "成績判斷 = int (input(\"請輸入成績?\"))\n",
    "if 成績判斷 >= 90:\n",
    "    print(\"A\")\n",
    "elif 80 <= 成績判斷 <= 89:\n",
    "    print(\"B\")\n",
    "elif 70 <= 成績判斷 <= 79:\n",
    "    print(\"C\")\n",
    "elif 60 <= 成績判斷 <= 69:\n",
    "    print(\"D\")\n",
    "else:\n",
    "    print(\"E\") "
   ]
  },
  {
   "cell_type": "code",
   "execution_count": 42,
   "metadata": {},
   "outputs": [
    {
     "ename": "SyntaxError",
     "evalue": "invalid syntax (489051416.py, line 2)",
     "output_type": "error",
     "traceback": [
      "\u001b[1;36m  Cell \u001b[1;32mIn[42], line 2\u001b[1;36m\u001b[0m\n\u001b[1;33m    if x == 3, 4, 5:\u001b[0m\n\u001b[1;37m             ^\u001b[0m\n\u001b[1;31mSyntaxError\u001b[0m\u001b[1;31m:\u001b[0m invalid syntax\n"
     ]
    }
   ],
   "source": [
    "x = int (input(\"請輸入月份?\"))\n",
    "if x == 3, 4, 5:\n",
    "    print( x\"月是春天! \")\n",
    "elif x == 6, 7, 8:\n",
    "    print( x\"月是夏天! \")\n",
    "elif x == 9, 10, 11:\n",
    "    print( x\"月是秋天! \")\n",
    "elif x == 12, 1, 2:\n",
    "    print( x\"月是冬天！ \")\n",
    "else:\n",
    "    print(\"月份不在範圍內!\") "
   ]
  },
  {
   "cell_type": "code",
   "execution_count": 48,
   "metadata": {},
   "outputs": [
    {
     "name": "stdout",
     "output_type": "stream",
     "text": [
      "450\n"
     ]
    }
   ],
   "source": [
    "總額 = int (input(\"請輸入購物車總額?\"))\n",
    "if 總額 > 1000:\n",
    "    total = (總額*0.8)\n",
    "    print(total)\n",
    "elif 500 <= 總額 <= 1000:\n",
    "    total = (總額*0.9)\n",
    "    print(total)\n",
    "else:\n",
    "    print(總額)"
   ]
  },
  {
   "cell_type": "code",
   "execution_count": 52,
   "metadata": {},
   "outputs": [
    {
     "name": "stdout",
     "output_type": "stream",
     "text": [
      "需要立即加油！\n"
     ]
    }
   ],
   "source": [
    "油量 = int (input(\"請輸入油量?\"))\n",
    "if 油量 > 10:\n",
    "    print(\"油量充足\")\n",
    "elif 5 <= 油量 <= 10:\n",
    "    print(\"油量不足，建議加油\")\n",
    "else:\n",
    "    print(\"需要立即加油！\")"
   ]
  },
  {
   "cell_type": "code",
   "execution_count": 59,
   "metadata": {},
   "outputs": [
    {
     "name": "stdout",
     "output_type": "stream",
     "text": [
      "4950\n"
     ]
    }
   ],
   "source": [
    "金額 = int (input(\"請輸入轉帳金額?\"))\n",
    "if 金額 > 10000:\n",
    "    total = (金額)\n",
    "    print(total)\n",
    "elif 5000 <= 金額<= 10000:\n",
    "    total = (金額 - 50)\n",
    "    print(total)\n",
    "elif 1000 <= 金額<= 4999:\n",
    "    total = (金額 - 100)\n",
    "    print(total)\n",
    "else:\n",
    "    total = (金額 - 150)\n",
    "    print(total)"
   ]
  },
  {
   "cell_type": "code",
   "execution_count": null,
   "metadata": {},
   "outputs": [],
   "source": []
  }
 ],
 "metadata": {
  "kernelspec": {
   "display_name": "Python 3",
   "language": "python",
   "name": "python3"
  },
  "language_info": {
   "codemirror_mode": {
    "name": "ipython",
    "version": 3
   },
   "file_extension": ".py",
   "mimetype": "text/x-python",
   "name": "python",
   "nbconvert_exporter": "python",
   "pygments_lexer": "ipython3",
   "version": "3.12.4"
  }
 },
 "nbformat": 4,
 "nbformat_minor": 2
}
