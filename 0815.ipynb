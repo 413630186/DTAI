{
 "cells": [
  {
   "cell_type": "code",
   "execution_count": 1,
   "metadata": {},
   "outputs": [
    {
     "name": "stdout",
     "output_type": "stream",
     "text": [
      "0815\n"
     ]
    }
   ],
   "source": [
    "print(\"0815\")"
   ]
  },
  {
   "cell_type": "code",
   "execution_count": 2,
   "metadata": {},
   "outputs": [
    {
     "name": "stdout",
     "output_type": "stream",
     "text": [
      "Hello world, I am oxxo!!\n",
      "Hello world, I am xoox!!\n",
      "there are 2 dollars\n",
      "there are 2.000000 dollars\n"
     ]
    }
   ],
   "source": [
    "a = 'Hello world, I am %s!!'\n",
    "b = 'there are %d dollars'\n",
    "c = 'there are %f dollars'\n",
    "print(a % 'oxxo')  # Hello world, I am oxxo!!\n",
    "print(a % 'xoox')  # Hello world, I am xoox!!\n",
    "print(b % 2.5)     # there are 2 dollars ( 小數點被無條件捨去 )\n",
    "print(c % 2)       # there are 2.000000 dollars ( 整數轉換成浮點數 )"
   ]
  },
  {
   "cell_type": "code",
   "execution_count": 3,
   "metadata": {},
   "outputs": [
    {
     "name": "stdout",
     "output_type": "stream",
     "text": [
      "hello world\n",
      "       hello world\n",
      "       hello world\n",
      "hello        world\n",
      "hel world\n",
      "         hel world\n",
      "123.457 world\n"
     ]
    }
   ],
   "source": [
    "print('%s world' % 'hello')      # hello world\n",
    "print('%12s world' % 'hello')    #        hello world\n",
    "# %12s 會在 hello 前方加上七個空格 ( 7 + hello 總共 12 個字元 )\n",
    "# %.3s 會讓 hello 只剩下 hel ( 3 個字元 )\n",
    "print('%+12s world' % 'hello')   #        hello world\n",
    "print('%-12s world' % 'hello')   # hello        world\n",
    "print('%.3s world' % 'hello')    # hel world\n",
    "print('%12.3s world' % 'hello')  #          hel world\n",
    "\n",
    "print('%.3f world' % 123.456789) # 123.457 worl   ,%.3f 會讓 123.456789 只留下小數點三位"
   ]
  },
  {
   "cell_type": "code",
   "execution_count": 4,
   "metadata": {},
   "outputs": [
    {
     "name": "stdout",
     "output_type": "stream",
     "text": [
      "hello world, ther are 2.500000 dollars!\n"
     ]
    }
   ],
   "source": [
    "a = '%s world, ther are %f dollars!'\n",
    "b = a % ('hello', 2.5)\n",
    "print(b)   # hello world, ther are 2.500000 dollars!\n",
    "# %s\t字串\n",
    "# %d\t十進制整數\n",
    "# %f\t十進制浮點數"
   ]
  },
  {
   "cell_type": "code",
   "execution_count": 5,
   "metadata": {},
   "outputs": [
    {
     "name": "stdout",
     "output_type": "stream",
     "text": [
      "hello world, I am oxxo\n"
     ]
    }
   ],
   "source": [
    "a = 'hello {}, I am {}'\n",
    "b = a.format('world', 'oxxo')\n",
    "print(b)   # hello world, I am oxxo"
   ]
  },
  {
   "cell_type": "code",
   "execution_count": 6,
   "metadata": {},
   "outputs": [
    {
     "name": "stdout",
     "output_type": "stream",
     "text": [
      "你好 同學, 我是 ingzhen\n"
     ]
    }
   ],
   "source": [
    "c = \"你好 {}, 我是 {}\"\n",
    "d = c.format('同學','ingzhen')\n",
    "print(d)"
   ]
  },
  {
   "cell_type": "code",
   "execution_count": 7,
   "metadata": {},
   "outputs": [
    {
     "name": "stdout",
     "output_type": "stream",
     "text": [
      "hello oxxo, I am world\n"
     ]
    }
   ],
   "source": [
    "a = 'hello {1}, I am {0}'\n",
    "b = a.format('world', 'oxxo')\n",
    "print(b)   # hello oxxo, I am world ( world 和 oxxo 互換了 )\n",
    "#{} 裡可以填入數字，數字表示「填入資料的順序」"
   ]
  },
  {
   "cell_type": "code",
   "execution_count": 8,
   "metadata": {},
   "outputs": [
    {
     "name": "stdout",
     "output_type": "stream",
     "text": [
      "hello 12345, I am 12345, 12345\n"
     ]
    }
   ],
   "source": [
    "a = 'hello {2}, I am {2}, {2}'\n",
    "b = a.format('world', 'oxxo', '12345')\n",
    "print(b) "
   ]
  },
  {
   "cell_type": "code",
   "execution_count": 9,
   "metadata": {},
   "outputs": [
    {
     "name": "stdout",
     "output_type": "stream",
     "text": [
      "hello world, I am oxxo\n"
     ]
    }
   ],
   "source": [
    "a = 'hello {m}, I am {n}'\n",
    "b = a.format(m='world', n='oxxo')\n",
    "print(b) "
   ]
  },
  {
   "cell_type": "code",
   "execution_count": 10,
   "metadata": {},
   "outputs": [
    {
     "name": "stdout",
     "output_type": "stream",
     "text": [
      "hello world, I am QQ\n"
     ]
    }
   ],
   "source": [
    "a = 'hello {0[x][m]}, I am {0[y][m]}'\n",
    "b = {'x': {'m':'world', 'n':'oxxo'}, 'y':{'m':'QQ', 'n':'YY'}}\n",
    "c = a.format(b)\n",
    "print(c)    # hello world, I am QQ"
   ]
  },
  {
   "cell_type": "code",
   "execution_count": 11,
   "metadata": {},
   "outputs": [
    {
     "name": "stdout",
     "output_type": "stream",
     "text": [
      "hello world, I am oxxo\n",
      "hello world     , I am oxxo      \n",
      "hello      world, I am       oxxo\n",
      "hello --world---, I am +++oxxo+++\n",
      "hello ---wor----, I am ---oxxo---\n",
      "hello ---wor----, I am  123.457  \n"
     ]
    }
   ],
   "source": [
    "a = 'hello {}, I am {}'.format('world','oxxo')\n",
    "b = 'hello {:10s}, I am {:10s}'.format('world','oxxo')\n",
    "c = 'hello {:>10s}, I am {:>10s}'.format('world','oxxo')\n",
    "d = 'hello {:-^10s}, I am {:+^10s}'.format('world','oxxo')\n",
    "e = 'hello {:-^10.3s}, I am {:-^10s}'.format('world','oxxo')\n",
    "f = 'hello {:-^10.3s}, I am {:^10.3f}'.format('world',123.456789)\n",
    "print(a)  # hello world, I am oxxo\n",
    "print(b)  # hello world     , I am oxxo\n",
    "print(c)  # hello      world, I am       oxxo\n",
    "print(d)  # hello --world---, I am +++oxxo+++\n",
    "print(e)  # hello ---wor----, I am ---oxxo---\n",
    "print(f)  # hello ---wor----, I am  123.457"
   ]
  },
  {
   "cell_type": "code",
   "execution_count": 18,
   "metadata": {},
   "outputs": [
    {
     "name": "stdout",
     "output_type": "stream",
     "text": [
      " hello +++world---, I am +++oxxo---\n"
     ]
    }
   ],
   "source": [
    "g = ' hello +++{}---, I am +++{}---'.format('world','oxxo')\n",
    "print(g)"
   ]
  },
  {
   "cell_type": "code",
   "execution_count": 20,
   "metadata": {},
   "outputs": [
    {
     "name": "stdout",
     "output_type": "stream",
     "text": [
      "hello +++world---, I am +++oxxo---\n"
     ]
    }
   ],
   "source": [
    "h = \"oxxo\"\n",
    "i = f\"hello +++world---, I am +++{h}---\"\n",
    "print(i)"
   ]
  },
  {
   "cell_type": "code",
   "execution_count": 21,
   "metadata": {},
   "outputs": [
    {
     "name": "stdout",
     "output_type": "stream",
     "text": [
      "hello world, I am oxxo\n"
     ]
    }
   ],
   "source": [
    "a = 'world'\n",
    "b = 'oxxo'\n",
    "c = f'hello {a}, I am {b}'\n",
    "print(c)"
   ]
  },
  {
   "cell_type": "code",
   "execution_count": 22,
   "metadata": {},
   "outputs": [
    {
     "name": "stdout",
     "output_type": "stream",
     "text": [
      "hello world     , I am       oxxo\n",
      "hello world-----, I am +++oxxo+++\n",
      "hello wor-------, I am ++++ox++++\n",
      "hello WORLD, I am Oxxo\n"
     ]
    }
   ],
   "source": [
    "a = 'world'\n",
    "b = 'oxxo'\n",
    "c = f'hello {a:<10s}, I am {b:>10s}'\n",
    "d = f'hello {a:-<10s}, I am {b:+^10s}'\n",
    "e = f'hello {a:-<10.3s}, I am {b:+^10.2s}'\n",
    "f = f'hello {a.upper()}, I am {b.title()}'\n",
    "print(c)   # hello world     , I am       oxxo\n",
    "print(d)   # hello world-----, I am +++oxxo+++\n",
    "print(e)   # hello wor-------, I am ++++ox++++\n",
    "print(f)   # hello WORLD, I am Oxxo"
   ]
  },
  {
   "cell_type": "code",
   "execution_count": 29,
   "metadata": {},
   "outputs": [
    {
     "name": "stdout",
     "output_type": "stream",
     "text": [
      "001 , 002 , 003 , 004 , 005 , 006 , 007 , 008 , 009 , 010 , \n",
      "011 , 012 , 013 , 014 , 015 , 016 , 017 , 018 , 019 , 020 , \n",
      "021 , 022 , 023 , 024 , 025 , 026 , 027 , 028 , 029 , 030 , \n",
      "031 , 032 , 033 , 034 , 035 , 036 , 037 , 038 , 039 , 040 , \n",
      "041 , 042 , 043 , 044 , 045 , 046 , 047 , 048 , 049 , 050 , \n",
      "051 , 052 , 053 , 054 , 055 , 056 , 057 , 058 , 059 , 060 , \n",
      "061 , 062 , 063 , 064 , 065 , 066 , 067 , 068 , 069 , 070 , \n",
      "071 , 072 , 073 , 074 , 075 , 076 , 077 , 078 , 079 , 080 , \n",
      "081 , 082 , 083 , 084 , 085 , 086 , 087 , 088 , 089 , 090 , \n",
      "091 , 092 , 093 , 094 , 095 , 096 , 097 , 098 , 099 , 100 , \n"
     ]
    }
   ],
   "source": [
    "count = 0\n",
    "for i in range(1,101):\n",
    "    print(f'{i:03d}',end=' , ')\n",
    "    count +=1\n",
    "    if count %10==0:\n",
    "        print()"
   ]
  },
  {
   "cell_type": "code",
   "execution_count": 34,
   "metadata": {},
   "outputs": [
    {
     "ename": "SyntaxError",
     "evalue": "invalid syntax. Perhaps you forgot a comma? (1135418507.py, line 2)",
     "output_type": "error",
     "traceback": [
      "\u001b[1;36m  Cell \u001b[1;32mIn[34], line 2\u001b[1;36m\u001b[0m\n\u001b[1;33m    print(f'{i:03d}''\\n'%10,end=' , ' %10'\\n')\u001b[0m\n\u001b[1;37m                                ^\u001b[0m\n\u001b[1;31mSyntaxError\u001b[0m\u001b[1;31m:\u001b[0m invalid syntax. Perhaps you forgot a comma?\n"
     ]
    }
   ],
   "source": [
    "for i in range(1,101):\n",
    "    print(f'{i:03d}''\\n'%10,end=' , ' %10'\\n')"
   ]
  },
  {
   "cell_type": "code",
   "execution_count": 36,
   "metadata": {},
   "outputs": [
    {
     "name": "stdout",
     "output_type": "stream",
     "text": [
      "001 , 002 , 003 , 004 , 005 , 006 , 007 , 008 , 009 , 010 , \n",
      "\n",
      "011 , 012 , 013 , 014 , 015 , 016 , 017 , 018 , 019 , 020 , \n",
      "\n",
      "021 , 022 , 023 , 024 , 025 , 026 , 027 , 028 , 029 , 030 , \n",
      "\n",
      "031 , 032 , 033 , 034 , 035 , 036 , 037 , 038 , 039 , 040 , \n",
      "\n",
      "041 , 042 , 043 , 044 , 045 , 046 , 047 , 048 , 049 , 050 , \n",
      "\n",
      "051 , 052 , 053 , 054 , 055 , 056 , 057 , 058 , 059 , 060 , \n",
      "\n",
      "061 , 062 , 063 , 064 , 065 , 066 , 067 , 068 , 069 , 070 , \n",
      "\n",
      "071 , 072 , 073 , 074 , 075 , 076 , 077 , 078 , 079 , 080 , \n",
      "\n",
      "081 , 082 , 083 , 084 , 085 , 086 , 087 , 088 , 089 , 090 , \n",
      "\n",
      "091 , 092 , 093 , 094 , 095 , 096 , 097 , 098 , 099 , 100 , \n",
      "\n"
     ]
    }
   ],
   "source": [
    "for i in range(1,101):\n",
    "    print(f'{i:03d}',end=' , ')\n",
    "    if i %10==0:\n",
    "        print('\\n')"
   ]
  },
  {
   "cell_type": "code",
   "execution_count": 39,
   "metadata": {},
   "outputs": [
    {
     "name": "stdout",
     "output_type": "stream",
     "text": [
      "123.46\n"
     ]
    }
   ],
   "source": [
    "a = float(input(\"請輸入一個浮點數\"))\n",
    "print(round(a, 2))\n"
   ]
  },
  {
   "cell_type": "code",
   "execution_count": 44,
   "metadata": {},
   "outputs": [
    {
     "name": "stdout",
     "output_type": "stream",
     "text": [
      "123.46\n"
     ]
    }
   ],
   "source": [
    "a = 123.4567\n",
    "b = f'{round(a, 2)}'\n",
    "print(b)"
   ]
  },
  {
   "cell_type": "code",
   "execution_count": 46,
   "metadata": {},
   "outputs": [
    {
     "name": "stdout",
     "output_type": "stream",
     "text": [
      "Hello World\n"
     ]
    }
   ],
   "source": [
    "a = 'Hello'\n",
    "b = 'World'\n",
    "c = f'{a} {b}'\n",
    "print(c)\n"
   ]
  },
  {
   "cell_type": "code",
   "execution_count": 4,
   "metadata": {},
   "outputs": [
    {
     "name": "stdout",
     "output_type": "stream",
     "text": [
      " You are 34 years old.\n"
     ]
    }
   ],
   "source": [
    "import datetime                                   \n",
    "today = datetime.date.today()    \n",
    "a = int(input(\"請輸入出生年份(YYYY)\"))\n",
    "year = today.year - int(a)\n",
    "print ( f' You are {year} years old.')"
   ]
  },
  {
   "cell_type": "code",
   "execution_count": 49,
   "metadata": {},
   "outputs": [
    {
     "name": "stdout",
     "output_type": "stream",
     "text": [
      "24 歲 7 個月 14 天\n"
     ]
    }
   ],
   "source": [
    "import datetime                                   # import datetime 標準函式\n",
    "today = datetime.date.today()                     # 使用 datetime.date 取得今天的日期\n",
    "age = input('輸入生日 ( YYYY/MM/DD )：')            # 讓使用者輸入生日，格式為 YYYY/MM/DD\n",
    "age_list = age.split('/')                         # 將使用者輸入的日期，使用「/」拆成串列\n",
    "year = today.year - int(age_list[0])              # 用今天的年份，減去使用者的生日年份 ( 年份差 )\n",
    "month = today.month - int(age_list[1])            # 用今天的月份，減去使用者生日的月份 ( 月份差 )\n",
    "if month<0:                                       # 如果月份差的數字小於零，表示生日還沒到\n",
    "    year = year - 1                               # 將年份差減少 1 ( 表示跨了一年 )\n",
    "    month = 12 + month                            # 將月份差改成 12 + 月份差\n",
    "day_list = [31,28,31,30,31,30,31,31,30,31,30,31]  # 建立一個每個月有多少天的串列\n",
    "day = today.day - int(age_list[2])                # 用今天的日期，點去使用者生日的日期 ( 月份差 )\n",
    "if day<0:                                         # 如果月份差的數字小於 0，表示生日還沒到\n",
    "    month = month - 1                             # 將月份差減少 1\n",
    "    if month<0:                                   # 如果月份差減少後小於 0\n",
    "        year = year - 1                           # 再將年份差減少 1 ( 表示跨了一年 )\n",
    "        month = 12 + month                        # 將月份差改成 12 + 月份差\n",
    "    day = day_list[month] + day       # 將日期差改成該月的天數 + 日期差\n",
    "\n",
    "print(f'{year} 歲 {month} 個月 {day} 天')    # 印出現在幾歲幾個月又幾天"
   ]
  },
  {
   "cell_type": "code",
   "execution_count": 7,
   "metadata": {},
   "outputs": [
    {
     "name": "stdout",
     "output_type": "stream",
     "text": [
      " 2024-08-15 report.pdf \n"
     ]
    }
   ],
   "source": [
    "today = datetime.date.today()\n",
    "a = 'report'\n",
    "b = 'pdf'\n",
    "today_list ='-'   \n",
    "print(f' {today} {a}.{b} ')"
   ]
  },
  {
   "cell_type": "code",
   "execution_count": 8,
   "metadata": {},
   "outputs": [
    {
     "name": "stdout",
     "output_type": "stream",
     "text": [
      " 2024-08-15 report.pdf \n"
     ]
    }
   ],
   "source": [
    "a = 'report'\n",
    "b = 'pdf'\n",
    "today_list ='-'   \n",
    "print(f' {today} {a}.{b} ')"
   ]
  },
  {
   "cell_type": "code",
   "execution_count": 10,
   "metadata": {},
   "outputs": [
    {
     "name": "stdout",
     "output_type": "stream",
     "text": [
      "6*7=42\n"
     ]
    }
   ],
   "source": [
    "a = '6'\n",
    "b = '7'\n",
    "c = 6*7 \n",
    "print(f'{a}*{b}={c}')"
   ]
  }
 ],
 "metadata": {
  "kernelspec": {
   "display_name": "Python 3",
   "language": "python",
   "name": "python3"
  },
  "language_info": {
   "codemirror_mode": {
    "name": "ipython",
    "version": 3
   },
   "file_extension": ".py",
   "mimetype": "text/x-python",
   "name": "python",
   "nbconvert_exporter": "python",
   "pygments_lexer": "ipython3",
   "version": "3.12.4"
  }
 },
 "nbformat": 4,
 "nbformat_minor": 2
}
