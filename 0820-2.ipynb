{
 "cells": [
  {
   "cell_type": "code",
   "execution_count": 11,
   "metadata": {},
   "outputs": [
    {
     "name": "stdout",
     "output_type": "stream",
     "text": [
      "0820-2\n"
     ]
    }
   ],
   "source": [
    "print(\"0820-2\")"
   ]
  },
  {
   "cell_type": "code",
   "execution_count": 12,
   "metadata": {},
   "outputs": [
    {
     "name": "stdout",
     "output_type": "stream",
     "text": [
      "\n"
     ]
    }
   ],
   "source": [
    "#Python_basic_4\n",
    "def main():\n",
    "    user_input = input()\n",
    "    items = user_input.split()\n",
    "    reversed_items = items[::-1]\n",
    "    output = ' '.join(reversed_items)\n",
    "    print(output)\n",
    "if __name__ == \"__main__\":\n",
    "    main()"
   ]
  },
  {
   "cell_type": "code",
   "execution_count": 13,
   "metadata": {},
   "outputs": [
    {
     "ename": "ValueError",
     "evalue": "invalid literal for int() with base 10: ''",
     "output_type": "error",
     "traceback": [
      "\u001b[1;31m---------------------------------------------------------------------------\u001b[0m",
      "\u001b[1;31mValueError\u001b[0m                                Traceback (most recent call last)",
      "Cell \u001b[1;32mIn[13], line 1\u001b[0m\n\u001b[1;32m----> 1\u001b[0m n \u001b[38;5;241m=\u001b[39m \u001b[38;5;28;43mint\u001b[39;49m\u001b[43m(\u001b[49m\u001b[38;5;28;43minput\u001b[39;49m\u001b[43m(\u001b[49m\u001b[43m)\u001b[49m\u001b[43m)\u001b[49m\n\u001b[0;32m      2\u001b[0m \u001b[38;5;28;01mif\u001b[39;00m n\u001b[38;5;241m<\u001b[39m\u001b[38;5;241m0\u001b[39m :\n\u001b[0;32m      3\u001b[0m   \u001b[38;5;28mprint\u001b[39m(\u001b[38;5;124m\"\u001b[39m\u001b[38;5;124mInput Eroor\u001b[39m\u001b[38;5;124m\"\u001b[39m)\n",
      "\u001b[1;31mValueError\u001b[0m: invalid literal for int() with base 10: ''"
     ]
    }
   ],
   "source": [
    "n = int(input())\n",
    "if n<0 :\n",
    "  print(\"Input Eroor\")\n",
    "elif n%2==0 :\n",
    "  print(n, \"is even\")\n",
    "elif n%2!=0 :\n",
    "  print(n, \"is odd\")\n"
   ]
  },
  {
   "cell_type": "code",
   "execution_count": null,
   "metadata": {},
   "outputs": [],
   "source": [
    "#1 正確\n",
    "n = int(input())\n",
    "  \n",
    "if n<0 :\n",
    "  print(\"Input Error\")\n",
    "elif n%2==0 :\n",
    "  print(n,\"is even\")\n",
    "elif n%2!=0 :\n",
    "  print(n,\"is odd\")"
   ]
  },
  {
   "cell_type": "code",
   "execution_count": null,
   "metadata": {},
   "outputs": [],
   "source": [
    "n = int(input())\n",
    "\n",
    "if n >= 0:\n",
    "    \n",
    "    if n % 2 == 0:\n",
    "        print(\"is even\")\n",
    "    else:\n",
    "        print(\"is odd\")\n",
    "else:\n",
    "    print(\"Input Error\")"
   ]
  },
  {
   "cell_type": "code",
   "execution_count": null,
   "metadata": {},
   "outputs": [],
   "source": [
    "#10\n",
    "n = int(input())\n",
    "for i in range(1, n+1):\n",
    "  for j in range(1, i+1):\n",
    "    print(j, end=\"\")\n",
    "  print()"
   ]
  },
  {
   "cell_type": "code",
   "execution_count": null,
   "metadata": {},
   "outputs": [],
   "source": [
    "#12\n",
    "\n",
    "# 函數：計算兩數的最大公因數 (GCD)\n",
    "def gcd(a, b):\n",
    "    while b != 0:\n",
    "        a, b = b, a % b\n",
    "    return a\n",
    "\n",
    "# 函數：計算兩數的最小公倍數 (LCM)\n",
    "def lcm(a, b):\n",
    "    return abs(a * b) // gcd(a, b)\n",
    "\n",
    "# 主程式\n",
    "def main():\n",
    "    # 讓使用者輸入兩個整數\n",
    "    x, y = map(int, input(\"請輸入兩個整數（以空格分隔）: \").split())\n",
    "    \n",
    "    # 計算最小公倍數\n",
    "    result = lcm(x, y)\n",
    "    \n",
    "    # 輸出結果\n",
    "    print(result)\n",
    "\n",
    "# 執行主程式\n",
    "if __name__ == \"__main__\":\n",
    "    main()\n"
   ]
  },
  {
   "cell_type": "code",
   "execution_count": null,
   "metadata": {},
   "outputs": [],
   "source": [
    "#12\n",
    "def gcd(a, b):\n",
    "    while b != 0:\n",
    "        a, b = b, a % b\n",
    "    return a\n",
    "def lcm(a, b):\n",
    "    return abs(a * b) // gcd(a, b)\n",
    "def main():\n",
    "    x, y = map(int, input().split())\n",
    "    result = lcm(x, y)\n",
    "    print(result)\n",
    "if __name__ == \"__main__\":\n",
    "    main()"
   ]
  },
  {
   "cell_type": "code",
   "execution_count": null,
   "metadata": {},
   "outputs": [],
   "source": [
    "# 主程式\n",
    "def main():\n",
    "    # 讓使用者輸入一個字串\n",
    "    s = input(\"請輸入一個字串: \")\n",
    "    \n",
    "    # 轉換字串\n",
    "    result = ''\n",
    "    for i, char in enumerate(s):\n",
    "        if i % 2 == 0:\n",
    "            result += char.upper()  # 奇數位置（0起算）為大寫\n",
    "        else:\n",
    "            result += char.lower()  # 偶數位置為小寫\n",
    "    \n",
    "    # 輸出結果\n",
    "    print(result)\n",
    "\n",
    "# 執行主程式\n",
    "if __name__ == \"__main__\":\n",
    "    main()"
   ]
  },
  {
   "cell_type": "code",
   "execution_count": null,
   "metadata": {},
   "outputs": [],
   "source": [
    "#13\n",
    "def main():\n",
    "    s = input()\n",
    "    result = ''\n",
    "    for i, char in enumerate(s):\n",
    "        if i % 2 == 0:\n",
    "            result += char.upper()  # 奇數位置（0起算）為大寫\n",
    "        else:\n",
    "            result += char.lower()  # 偶數位置為小寫\n",
    "    print(result)\n",
    "if __name__ == \"__main__\":\n",
    "    main()\n"
   ]
  },
  {
   "cell_type": "code",
   "execution_count": null,
   "metadata": {},
   "outputs": [],
   "source": [
    "# 主程式\n",
    "def main():\n",
    "    # 讓使用者在同一行輸入三個整數\n",
    "    a, b, c = map(int, input(\"請輸入三個整數（以空格分隔）: \").split())\n",
    "    \n",
    "    # 判斷是否構成三角形\n",
    "    if (a + b > c) and (a + c > b) and (b + c > a):\n",
    "        print(\"Valid\")\n",
    "    else:\n",
    "        print(\"InValid\")\n",
    "\n",
    "# 執行主程式\n",
    "if __name__ == \"__main__\":\n",
    "    main()\n"
   ]
  },
  {
   "cell_type": "code",
   "execution_count": null,
   "metadata": {},
   "outputs": [],
   "source": [
    "#14\n",
    "def main():\n",
    "    a, b, c = map(int, input().split())\n",
    "    if (a + b > c) and (a + c > b) and (b + c > a):\n",
    "        print(\"Valid\")\n",
    "    else:\n",
    "        print(\"Invalid\")\n",
    "if __name__ == \"__main__\":\n",
    "    main()"
   ]
  },
  {
   "cell_type": "code",
   "execution_count": null,
   "metadata": {},
   "outputs": [],
   "source": [
    "# 主程式\n",
    "def main():\n",
    "    # 讓使用者輸入密碼\n",
    "    password = input(\"請輸入密碼: \")\n",
    "    \n",
    "    # 將每個字元轉換為 '*'\n",
    "    masked_password = '*' * len(password)\n",
    "    \n",
    "    # 輸出轉換後的密碼\n",
    "    print(masked_password)\n",
    "    \n",
    "    # 輸出密碼的長度\n",
    "    print(f\"total:{len(password)}\")\n",
    "\n",
    "# 執行主程式\n",
    "if __name__ == \"__main__\":\n",
    "    main()"
   ]
  },
  {
   "cell_type": "code",
   "execution_count": null,
   "metadata": {},
   "outputs": [],
   "source": [
    "#16 \n",
    "def main():\n",
    "    password = input()\n",
    "    masked_password = '*' * len(password)\n",
    "    print(masked_password)\n",
    "    print(f\"total:{len(password)}\")\n",
    "if __name__ == \"__main__\":\n",
    "    main()"
   ]
  },
  {
   "cell_type": "code",
   "execution_count": null,
   "metadata": {},
   "outputs": [],
   "source": [
    "# 主程式\n",
    "def main():\n",
    "    # 讓使用者輸入秒數\n",
    "    total_seconds = int(input(\"請輸入秒數: \"))\n",
    "    \n",
    "    # 計算時、分、秒\n",
    "    hours = total_seconds // 3600\n",
    "    minutes = (total_seconds % 3600) // 60\n",
    "    seconds = total_seconds % 60\n",
    "    \n",
    "    # 格式化輸出，確保時、分、秒皆為兩位數\n",
    "    time_formatted = f\"{hours:02}:{minutes:02}:{seconds:02}\"\n",
    "    \n",
    "    # 輸出結果\n",
    "    print(time_formatted)\n",
    "\n",
    "# 執行主程式\n",
    "if __name__ == \"__main__\":\n",
    "    main()\n"
   ]
  },
  {
   "cell_type": "code",
   "execution_count": null,
   "metadata": {},
   "outputs": [],
   "source": [
    "#17\n",
    "def main():\n",
    "    total_seconds = int(input())\n",
    "    hours = total_seconds // 3600\n",
    "    minutes = (total_seconds % 3600) // 60\n",
    "    seconds = total_seconds % 60\n",
    "    time_formatted = f\"{hours:02}:{minutes:02}:{seconds:02}\"\n",
    "    print(time_formatted)\n",
    "if __name__ == \"__main__\":\n",
    "    main()"
   ]
  },
  {
   "cell_type": "code",
   "execution_count": null,
   "metadata": {},
   "outputs": [],
   "source": [
    "# 主程式\n",
    "def main():\n",
    "    # 讓使用者輸入字串\n",
    "    user_input = input()\n",
    "    \n",
    "    # 輸出結果\n",
    "    print(f\"Ans {user_input}\")\n",
    "\n",
    "# 執行主程式\n",
    "if __name__ == \"__main__\":\n",
    "    main()"
   ]
  },
  {
   "cell_type": "code",
   "execution_count": null,
   "metadata": {},
   "outputs": [],
   "source": [
    "#21\n",
    "user_input = input()\n",
    "print(f\"Ans {user_input}\")"
   ]
  },
  {
   "cell_type": "code",
   "execution_count": null,
   "metadata": {},
   "outputs": [],
   "source": [
    "# 主程式\n",
    "def main():\n",
    "    # 讀取使用者輸入的學號，並以空格分開每個數字\n",
    "    numbers = input().split()\n",
    "    \n",
    "    # 將字串轉換為整數，並計算總和\n",
    "    total_sum = sum(int(num) for num in numbers)\n",
    "    \n",
    "    # 輸出總和\n",
    "    print(total_sum)\n",
    "\n",
    "# 執行主程式\n",
    "if __name__ == \"__main__\":\n",
    "    main()\n"
   ]
  },
  {
   "cell_type": "code",
   "execution_count": null,
   "metadata": {},
   "outputs": [],
   "source": [
    "#22\n",
    "numbers = input().split()\n",
    "total_sum = sum(int(num) for num in numbers)\n",
    "print(total_sum)"
   ]
  },
  {
   "cell_type": "code",
   "execution_count": null,
   "metadata": {},
   "outputs": [],
   "source": [
    "# 主程式\n",
    "def main():\n",
    "    # 讀取正整數 N\n",
    "    N = int(input().strip())\n",
    "    \n",
    "    # 計算從 10 到 N 的所有正整數的總和\n",
    "    first_term = 10\n",
    "    last_term = N\n",
    "    num_terms = last_term - first_term + 1\n",
    "    \n",
    "    # 使用等差數列求和公式計算總和\n",
    "    total_sum = num_terms * (first_term + last_term) // 2\n",
    "    \n",
    "    # 輸出結果\n",
    "    print(total_sum)\n",
    "\n",
    "# 執行主程式\n",
    "if __name__ == \"__main__\":\n",
    "    main()\n"
   ]
  },
  {
   "cell_type": "code",
   "execution_count": null,
   "metadata": {},
   "outputs": [],
   "source": [
    "#24\n",
    "N = int(input().strip())\n",
    "first_term = 10\n",
    "last_term = N\n",
    "num_terms = last_term - first_term + 1\n",
    "total_sum = num_terms * (first_term + last_term) // 2\n",
    "print(total_sum)\n"
   ]
  },
  {
   "cell_type": "code",
   "execution_count": null,
   "metadata": {},
   "outputs": [],
   "source": [
    "# 主程式\n",
    "def main():\n",
    "    # 讀取體溫，並轉換為浮點數\n",
    "    temperature = float(input().strip())\n",
    "    \n",
    "    # 根據體溫範圍判斷並輸出相應的提示\n",
    "    if temperature >= 37.5:\n",
    "        status = \"is over\"\n",
    "    elif 37.0 <= temperature < 37.5:\n",
    "        status = \"is little over\"\n",
    "    elif 36.0 <= temperature < 37.0:\n",
    "        status = \"is normal\"\n",
    "    else:\n",
    "        status = \"is error\"\n",
    "    \n",
    "    # 輸出結果，確保體溫保留一位小數\n",
    "    print(f\"{temperature:.1f} {status}\")\n",
    "\n",
    "# 執行主程式\n",
    "if __name__ == \"__main__\":\n",
    "    main()\n"
   ]
  },
  {
   "cell_type": "code",
   "execution_count": null,
   "metadata": {},
   "outputs": [],
   "source": [
    "#25\n",
    "temperature = float(input().strip())\n",
    "if temperature >= 37.5:\n",
    "    status = \"is over\"\n",
    "elif 37.0 <= temperature < 37.5:\n",
    "    status = \"is little over\"\n",
    "elif 36.0 <= temperature < 37.0:\n",
    "    status = \"is normal\"\n",
    "else:\n",
    "    status = \"is error\"\n",
    "print(f\"{temperature:.1f} {status}\")\n"
   ]
  },
  {
   "cell_type": "code",
   "execution_count": null,
   "metadata": {},
   "outputs": [],
   "source": [
    "# 主程式\n",
    "def main():\n",
    "    # 讀取使用者輸入的成績，並轉換為整數\n",
    "    score = int(input().strip())\n",
    "    \n",
    "    # 根據成績範圍判斷等第\n",
    "    if score < 0 or score > 100:\n",
    "        grade = \"error\"\n",
    "    elif score < 60:\n",
    "        grade = \"E\"\n",
    "    elif score < 70:\n",
    "        grade = \"D\"\n",
    "    elif score < 80:\n",
    "        grade = \"C\"\n",
    "    elif score < 90:\n",
    "        grade = \"B\"\n",
    "    else:\n",
    "        grade = \"A\"\n",
    "    \n",
    "    # 輸出結果，確保成績顯示為整數\n",
    "    print(f\"{score} is {grade}\")\n",
    "\n",
    "# 執行主程式\n",
    "if __name__ == \"__main__\":\n",
    "    main()\n"
   ]
  },
  {
   "cell_type": "code",
   "execution_count": null,
   "metadata": {},
   "outputs": [],
   "source": [
    "#26\n",
    "score = int(input().strip())\n",
    "if score < 0 or score > 100:\n",
    "    grade = \"error\"\n",
    "elif score < 60:\n",
    "    grade = \"E\"\n",
    "elif score < 70:\n",
    "    grade = \"D\"\n",
    "elif score < 80:\n",
    "    grade = \"C\"\n",
    "elif score < 90:\n",
    "    grade = \"B\"\n",
    "else:\n",
    "    grade = \"A\"\n",
    "print(f\"{score} is {grade}\")"
   ]
  },
  {
   "cell_type": "code",
   "execution_count": null,
   "metadata": {},
   "outputs": [],
   "source": [
    "# 主程式\n",
    "def main():\n",
    "    # 讀取使用者輸入的月份，並轉換為整數\n",
    "    month = int(input().strip())\n",
    "    \n",
    "    # 根據月份判斷季節\n",
    "    if month == 12 or month == 1 or month == 2:\n",
    "        season = \"winter\"\n",
    "    elif 3 <= month <= 5:\n",
    "        season = \"spring\"\n",
    "    elif 6 <= month <= 8:\n",
    "        season = \"summer\"\n",
    "    elif 9 <= month <= 11:\n",
    "        season = \"autumn\"\n",
    "    else:\n",
    "        season = \"input error\"\n",
    "    \n",
    "    # 輸出結果\n",
    "    print(f\"{month} is {season}\")\n",
    "\n",
    "# 執行主程式\n",
    "if __name__ == \"__main__\":\n",
    "    main()\n"
   ]
  },
  {
   "cell_type": "code",
   "execution_count": null,
   "metadata": {},
   "outputs": [],
   "source": [
    "def get_season(month):\n",
    "    if month < 1 or month > 12:\n",
    "        return \"input error\"\n",
    "    elif month in [12, 1, 2]:\n",
    "        return f\"{month} is winter\"\n",
    "    elif month in [3, 4, 5]:\n",
    "        return f\"{month} is spring\"\n",
    "    elif month in [6, 7, 8]:\n",
    "        return f\"{month} is summer\"\n",
    "    elif month in [9, 10, 11]:\n",
    "        return f\"{month} is autumn\"\n",
    "\n",
    "def main():\n",
    "    try:\n",
    "        # 讀取使用者輸入\n",
    "        month = int(input())\n",
    "        # 顯示結果\n",
    "        print(get_season(month))\n",
    "    except ValueError:\n",
    "        print(\"input error\")\n",
    "\n",
    "if __name__ == \"__main__\":\n",
    "    main()\n"
   ]
  },
  {
   "cell_type": "code",
   "execution_count": null,
   "metadata": {},
   "outputs": [],
   "source": [
    "def main():\n",
    "    try:\n",
    "        month = int(input())\n",
    "        if month < 1 or month > 12:\n",
    "            print(\"input error\")\n",
    "        elif month in [12, 1, 2]:\n",
    "            print(f\"{month} is winter\")\n",
    "        elif month in [3, 4, 5]:\n",
    "            print(f\"{month} is spring\")\n",
    "        elif month in [6, 7, 8]:\n",
    "            print(f\"{month} is summer\")\n",
    "        elif month in [9, 10, 11]:\n",
    "            print(f\"{month} is autumn\")\n",
    "    except ValueError:\n",
    "        print(\"input error\")\n",
    "\n",
    "if __name__ == \"__main__\":\n",
    "    main()\n"
   ]
  },
  {
   "cell_type": "code",
   "execution_count": null,
   "metadata": {},
   "outputs": [
    {
     "name": "stdout",
     "output_type": "stream",
     "text": [
      "(12, 'is winter')\n"
     ]
    }
   ],
   "source": [
    "#27\n",
    "month = input().strip()\n",
    "\n",
    "try:\n",
    "    month = int(month)\n",
    "    if month < 1 or month > 12:\n",
    "        print(\"input error\")\n",
    "    else:\n",
    "        season = (\n",
    "            \"winter\" if month in [12, 1, 2] else\n",
    "            \"spring\" if month in [3, 4, 5] else\n",
    "            \"summer\" if month in [6, 7, 8] else\n",
    "            \"autumn\"\n",
    "        )\n",
    "        print(f\"{month} is {season}\")\n",
    "except ValueError:\n",
    "    print(\"input error\")\n",
    "\n"
   ]
  },
  {
   "cell_type": "code",
   "execution_count": null,
   "metadata": {},
   "outputs": [],
   "source": [
    "# 获取用户输入的收入净额\n",
    "income = int(input(\"请输入收入净额：\"))\n",
    "\n",
    "# 初始化税率\n",
    "tax_rate = 0\n",
    "\n",
    "# 根据收入净额确定税率\n",
    "if income >= 2000000:\n",
    "    tax_rate = 0.3\n",
    "elif income >= 1000000:\n",
    "    tax_rate = 0.21\n",
    "elif income >= 600000:\n",
    "    tax_rate = 0.13\n",
    "elif income >= 300000:\n",
    "    tax_rate = 0.06\n",
    "else:\n",
    "    tax_rate = 0\n",
    "\n",
    "# 计算税额\n",
    "tax_amount = income * tax_rate\n",
    "\n",
    "# 输出结果\n",
    "print(f\"pay {tax_amount:.1f} money\")\n"
   ]
  },
  {
   "cell_type": "code",
   "execution_count": null,
   "metadata": {},
   "outputs": [
    {
     "name": "stdout",
     "output_type": "stream",
     "text": [
      "pay 78000.0 money\n"
     ]
    }
   ],
   "source": [
    "def calculate_tax(income):\n",
    "    # 判斷稅率並計算稅額\n",
    "    if income >= 2000000:\n",
    "        return income * 0.30\n",
    "    elif income >= 1000000:\n",
    "        return income * 0.21\n",
    "    elif income >= 600000:\n",
    "        return income * 0.13\n",
    "    elif income >= 300000:\n",
    "        return income * 0.06\n",
    "    else:\n",
    "        return 0.00\n",
    "\n",
    "def main():\n",
    "    try:\n",
    "        # 讀取並處理使用者的輸入\n",
    "        income = int(input().strip())\n",
    "        # 計算稅額\n",
    "        tax_amount = calculate_tax(income)\n",
    "        # 輸出結果\n",
    "        print(f\"pay {tax_amount:.1f} money\")\n",
    "    except ValueError:\n",
    "        # 處理無效的輸入\n",
    "        print(\"input error\")\n",
    "\n",
    "if __name__ == \"__main__\":\n",
    "    main()\n"
   ]
  },
  {
   "cell_type": "code",
   "execution_count": null,
   "metadata": {},
   "outputs": [
    {
     "name": "stdout",
     "output_type": "stream",
     "text": [
      "pay 600000.0 money\n"
     ]
    }
   ],
   "source": [
    "#28\n",
    "a = int(input())\n",
    "if a >= 2000000:\n",
    "    b = a * 0.30\n",
    "elif a >= 1000000:\n",
    "    b = a * 0.21\n",
    "elif a >= 600000:\n",
    "    b = a * 0.13\n",
    "elif a >= 300000:\n",
    "    b = a * 0.06\n",
    "else:\n",
    "    b = 0.00 \n",
    "print(f\"pay {b} money\")\n"
   ]
  },
  {
   "cell_type": "code",
   "execution_count": null,
   "metadata": {},
   "outputs": [],
   "source": [
    "#28\n",
    "a = int(input())\n",
    "if a >= 2000000:\n",
    "    tax_amount = a * 0.30\n",
    "elif a >= 1000000:\n",
    "    tax_amount = a * 0.21\n",
    "elif a >= 600000:\n",
    "    tax_amount = a * 0.13\n",
    "elif a >= 300000:\n",
    "    tax_amount = a * 0.06\n",
    "else:\n",
    "    tax_amount = 0\n",
    "    print(\"pay 0 money\")\n",
    "print(f\"pay {tax_amount:.1f} money\")"
   ]
  },
  {
   "cell_type": "code",
   "execution_count": null,
   "metadata": {},
   "outputs": [],
   "source": [
    "#28\n",
    "a = int(input())\n",
    "if a >= 2000000:\n",
    "    tax_amount = a * 0.3\n",
    "elif 1999999 >= a >= 1000000:\n",
    "    tax_amount = a * 0.21\n",
    "elif 999999 >= a >= 600000:\n",
    "    tax_amount = a * 0.13\n",
    "elif 599999 >= a >= 300000:\n",
    "    tax_amount = a * 0.06\n",
    "else:\n",
    "    tax_amount = 0\n",
    "    print(\"pay 0 money\")\n",
    "print(f\"pay {tax_amount:.1f} money\")"
   ]
  },
  {
   "cell_type": "code",
   "execution_count": null,
   "metadata": {},
   "outputs": [],
   "source": [
    "#29\n",
    "a =  int(input())\n",
    "if  a >= 100000:\n",
    "    b = a * 0.8\n",
    "    c = \"80% discount is\"\n",
    "elif a >= 50000:\n",
    "    b = a * 0.85\n",
    "    c = \"85% discount is\"\n",
    "elif a >= 30000:\n",
    "    b = a * 0.9\n",
    "    c = \"90% discount is\"\n",
    "elif a >= 10000:\n",
    "    b = a * 0.95\n",
    "    c = \"95% discount is\"\n",
    "else:\n",
    "    b = a * 1 \n",
    "    c = \" no discount is\"\n",
    "print(f\"{c} {b}\")"
   ]
  },
  {
   "cell_type": "code",
   "execution_count": null,
   "metadata": {},
   "outputs": [],
   "source": [
    "#29 正確\n",
    "a =  int(input())\n",
    "if  a >= 100000:\n",
    "    print(\"80% discount is\",a * 0.8)\n",
    "elif a >= 50000:\n",
    "    print(\"85% discount is\",a * 0.85)\n",
    "elif a >= 30000:\n",
    "    print(\"90% discount is\",a * 0.9)\n",
    "elif a >= 10000:\n",
    "    print(\"95% discount is\",a * 0.95)\n",
    "elif a >= 0:\n",
    "    print(\"no discount is\",a * 1)"
   ]
  },
  {
   "cell_type": "code",
   "execution_count": null,
   "metadata": {},
   "outputs": [],
   "source": [
    "def calculate_tax(income):\n",
    "    # 根據收入淨額判斷稅率並計算稅額\n",
    "    if income >= 2000000:\n",
    "        return income * 0.30\n",
    "    elif income >= 1000000:\n",
    "        return income * 0.21\n",
    "    elif income >= 600000:\n",
    "        return income * 0.13\n",
    "    elif income >= 300000:\n",
    "        return income * 0.06\n",
    "    else:\n",
    "        return 0.00\n",
    "\n",
    "def main():\n",
    "    try:\n",
    "        # 讀取並處理使用者的輸入\n",
    "        income = int(input().strip())\n",
    "        # 計算稅額\n",
    "        tax_amount = calculate_tax(income)\n",
    "        # 輸出結果\n",
    "        print(f\"pay {tax_amount:.1f} money\")\n",
    "    except ValueError:\n",
    "        # 處理非整數輸入\n",
    "        print(\"input error\")\n",
    "\n",
    "if __name__ == \"__main__\":\n",
    "    main()"
   ]
  },
  {
   "cell_type": "code",
   "execution_count": 14,
   "metadata": {},
   "outputs": [],
   "source": [
    "#29\n",
    "a =  int(input())\n",
    "if  a >= 100000:\n",
    "    b = a * 0.8\n",
    "    c = \"80% discount is\"\n",
    "elif a >= 50000:\n",
    "    b = a * 0.85\n",
    "    c = \"85% discount is\"\n",
    "elif a >= 30000:\n",
    "    b = a * 0.9\n",
    "    c = \"90% discount is\"\n",
    "elif a >= 10000:\n",
    "    b = a * 0.95\n",
    "    c = \"95% discount is\"\n",
    "else:\n",
    "    b = a * 1 \n",
    "    c = \" no discount is\"\n",
    "print(f\"{c} {b}\")"
   ]
  },
  {
   "cell_type": "code",
   "execution_count": null,
   "metadata": {},
   "outputs": [],
   "source": [
    "def calculate_discounted_price(amount):\n",
    "    # 根據消費金額判斷折扣並計算折扣後的價格\n",
    "    if amount >= 100000:\n",
    "        discount_rate = 0.80\n",
    "        discount_percentage = 80\n",
    "    elif amount >= 50000:\n",
    "        discount_rate = 0.85\n",
    "        discount_percentage = 85\n",
    "    elif amount >= 30000:\n",
    "        discount_rate = 0.90\n",
    "        discount_percentage = 90\n",
    "    elif amount >= 10000:\n",
    "        discount_rate = 0.95\n",
    "        discount_percentage = 95\n",
    "    else:\n",
    "        return f\"no discount is {amount:.2f}\"\n",
    "\n",
    "    discounted_price = amount * discount_rate\n",
    "    return f\"{discount_percentage}% discount is {discounted_price:.1f}\"\n",
    "\n",
    "def main():\n",
    "    try:\n",
    "        # 讀取並處理使用者的輸入\n",
    "        amount = int(input().strip())\n",
    "        # 計算並輸出結果\n",
    "        result = calculate_discounted_price(amount)\n",
    "        print(result)\n",
    "    except ValueError:\n",
    "        # 處理非整數輸入\n",
    "        print(\"input error\")\n",
    "\n",
    "if __name__ == \"__main__\":\n",
    "    main()"
   ]
  },
  {
   "cell_type": "code",
   "execution_count": null,
   "metadata": {},
   "outputs": [],
   "source": [
    "import math\n",
    "\n",
    "def main():\n",
    "    # 讀取輸入並將其拆分為數字列表\n",
    "    numbers = list(map(int, input().strip().split()))\n",
    "    \n",
    "    # 計算總和\n",
    "    sum_value = sum(numbers)\n",
    "    \n",
    "    # 計算開根號結果\n",
    "    squ = math.sqrt(sum_value)\n",
    "    \n",
    "    # 計算開根號結果的整數強制轉型\n",
    "    squi = int(squ)\n",
    "    \n",
    "    # 判斷整數強制轉型後的結果是奇數還是偶數\n",
    "    parity = \"odd\" if squi % 2 else \"even\"\n",
    "    \n",
    "    # 輸出結果\n",
    "    print(f\"sum:{sum_value}\")\n",
    "    print(f\"squ:{squ}\")\n",
    "    print(f\"squi:{squi}\")\n",
    "    print(f\"squi is {parity}\")\n",
    "\n",
    "if __name__ == \"__main__\":\n",
    "    main()"
   ]
  },
  {
   "cell_type": "code",
   "execution_count": null,
   "metadata": {},
   "outputs": [],
   "source": [
    "#31\n",
    "import math\n",
    "def main():\n",
    "    numbers = list(map(int, input().strip().split()))\n",
    "    sum_value = sum(numbers)\n",
    "    squ = math.sqrt(sum_value)\n",
    "    squi = int(squ)\n",
    "    parity = \"odd\" if squi % 2 else \"even\"\n",
    "    print(f\"sum:{sum_value}\")\n",
    "    print(f\"squ:{squ}\")\n",
    "    print(f\"squi:{squi}\")\n",
    "    print(f\"squi is {parity}\")\n",
    "\n",
    "if __name__ == \"__main__\":\n",
    "    main()"
   ]
  },
  {
   "cell_type": "code",
   "execution_count": null,
   "metadata": {},
   "outputs": [],
   "source": [
    "def is_isosceles(a, b, c):\n",
    "    # 判斷三個邊是否可以構成三角形\n",
    "    if (a + b > c) and (a + c > b) and (b + c > a):\n",
    "        # 判斷是否為等腰三角形\n",
    "        return a == b or a == c or b == c\n",
    "    else:\n",
    "        return False\n",
    "\n",
    "def main():\n",
    "    try:\n",
    "        # 讀取並處理使用者的輸入\n",
    "        a, b, c = map(int, input().strip().split())\n",
    "        \n",
    "        # 判斷是否為等腰三角形\n",
    "        if is_isosceles(a, b, c):\n",
    "            print(\"Valid\")\n",
    "        else:\n",
    "            print(\"Invalid\")\n",
    "    except ValueError:\n",
    "        print(\"Invalid input\")\n",
    "\n",
    "if __name__ == \"__main__\":\n",
    "    main()\n"
   ]
  },
  {
   "cell_type": "code",
   "execution_count": null,
   "metadata": {},
   "outputs": [],
   "source": [
    "#33\n",
    "def is_isosceles(a, b, c):\n",
    "    if (a + b > c) and (a + c > b) and (b + c > a):\n",
    "        return a == b or a == c or b == c\n",
    "    else:\n",
    "        return False\n",
    "def main():\n",
    "    try:\n",
    "        a, b, c = map(int, input().strip().split())\n",
    "        if is_isosceles(a, b, c):\n",
    "            print(\"Valid\")\n",
    "        else:\n",
    "            print(\"Invalid\")\n",
    "    except ValueError:\n",
    "        print(\"Invalid input\")\n",
    "if __name__ == \"__main__\":\n",
    "    main()\n"
   ]
  },
  {
   "cell_type": "code",
   "execution_count": null,
   "metadata": {},
   "outputs": [],
   "source": [
    "def calculate_parking_fee(minutes):\n",
    "    # 計算總小時數和剩餘分鐘數\n",
    "    hours = minutes // 60\n",
    "    remaining_minutes = minutes % 60\n",
    "    \n",
    "    # 計算停車費用\n",
    "    if remaining_minutes > 0:\n",
    "        fee = (hours + 1) * 40  # 收費按完整小時計算\n",
    "    else:\n",
    "        fee = hours * 40\n",
    "    \n",
    "    # 根據收費規則進行調整\n",
    "    if fee > 300:\n",
    "        fee = 300\n",
    "    \n",
    "    return hours, remaining_minutes, fee\n",
    "\n",
    "def main():\n",
    "    try:\n",
    "        # 讀取使用者的輸入\n",
    "        minutes = int(input().strip())\n",
    "        \n",
    "        # 計算停車時間和費用\n",
    "        hours, remaining_minutes, fee = calculate_parking_fee(minutes)\n",
    "        \n",
    "        # 輸出結果\n",
    "        print(f\"park time:{hours}h:{remaining_minutes}m\")\n",
    "        print(f\"pay:{fee} money\")\n",
    "    except ValueError:\n",
    "        print(\"Invalid input\")\n",
    "\n",
    "if __name__ == \"__main__\":\n",
    "    main()\n"
   ]
  },
  {
   "cell_type": "code",
   "execution_count": null,
   "metadata": {},
   "outputs": [],
   "source": [
    "def calculate_parking_fee(minutes):\n",
    "    # 计算小时数和分钟数\n",
    "    hours = minutes // 60\n",
    "    remaining_minutes = minutes % 60\n",
    "    \n",
    "    # 计算总费用\n",
    "    if remaining_minutes > 0:\n",
    "        total_hours = hours + 1  # 如果有剩余分钟，则需要按一个完整小时计算\n",
    "    else:\n",
    "        total_hours = hours\n",
    "    \n",
    "    # 计算停车费用\n",
    "    if total_hours == 0:\n",
    "        fee = 20\n",
    "    else:\n",
    "        fee = (total_hours - 1) * 40 + 20  # 之前的小时费用 + 不满一个小时的费用\n",
    "        fee = min(fee, 300)  # 最高收取300元\n",
    "    \n",
    "    return hours, remaining_minutes, fee\n",
    "\n",
    "# 让用户输入停车分钟数\n",
    "try:\n",
    "    minutes = int(input(\"请输入停车分钟数: \"))\n",
    "    hours, remaining_minutes, fee = calculate_parking_fee(minutes)\n",
    "    \n",
    "    # 输出停车时间和费用\n",
    "    print(f\"park time:{hours}h:{remaining_minutes}m\")\n",
    "    print(f\"pay:{fee} money\")\n",
    "except ValueError:\n",
    "    print(\"输入无效。请输入一个整数。\")"
   ]
  },
  {
   "cell_type": "code",
   "execution_count": null,
   "metadata": {},
   "outputs": [],
   "source": [
    "#34\n",
    "def calculate_parking_fee(minutes):\n",
    "    # 计算小时数和分钟数\n",
    "    hours = minutes // 60\n",
    "    remaining_minutes = minutes % 60\n",
    "    \n",
    "    # 计算费用\n",
    "    if minutes > 0:\n",
    "        fee = (hours + 1) * 40 if remaining_minutes > 0 else hours * 40\n",
    "    else:\n",
    "        fee = 0\n",
    "    \n",
    "    # 处理最高收费限制\n",
    "    fee = min(fee, 300)\n",
    "    \n",
    "    return hours, remaining_minutes, fee\n",
    "\n",
    "# 获取用户输入并计算费用\n",
    "try:\n",
    "    minutes = int(input(\"请输入停车分钟数: \"))\n",
    "    hours, remaining_minutes, fee = calculate_parking_fee(minutes)\n",
    "    print(f\"park time:{hours}h:{remaining_minutes}m\")\n",
    "    print(f\"pay:{fee} money\")\n",
    "except ValueError:\n",
    "    print(\"输入无效。请输入一个整数。\")\n"
   ]
  },
  {
   "cell_type": "code",
   "execution_count": null,
   "metadata": {},
   "outputs": [],
   "source": [
    "#34\n",
    "def calculate_parking_fee(minutes):\n",
    "    hours = minutes // 60\n",
    "    remaining_minutes = minutes % 60\n",
    "    if remaining_minutes > 0:\n",
    "        total_hours = hours + 1  \n",
    "    else:\n",
    "        total_hours = hours\n",
    "    if total_hours == 0:\n",
    "        fee = 20\n",
    "    else:\n",
    "        fee = (total_hours - 1) * 40 + 20 \n",
    "        fee = min(fee, 300)  \n",
    "    return hours, remaining_minutes, fee\n",
    "try:\n",
    "    minutes = int(input())\n",
    "    hours, remaining_minutes, fee = calculate_parking_fee(minutes)\n",
    "    print(f\"park time:{hours}h:{remaining_minutes}m\")\n",
    "    print(f\"pay:{fee} money\")\n",
    "except ValueError:\n",
    "    print()"
   ]
  },
  {
   "cell_type": "code",
   "execution_count": null,
   "metadata": {},
   "outputs": [],
   "source": [
    "#34\n",
    "a = int(input())\n",
    "if a % 60 == b :\n",
    "    fee = "
   ]
  },
  {
   "cell_type": "code",
   "execution_count": null,
   "metadata": {},
   "outputs": [],
   "source": [
    "def is_narcissistic(number):\n",
    "    # 確保 number 是三位數\n",
    "    if 100 <= number <= 999:\n",
    "        # 分解數字的百位、十位和個位\n",
    "        a = number // 100\n",
    "        b = (number // 10) % 10\n",
    "        c = number % 10\n",
    "        \n",
    "        # 計算立方和\n",
    "        return (a**3 + b**3 + c**3) == number\n",
    "    return False\n",
    "\n",
    "def main():\n",
    "    try:\n",
    "        # 讀取輸入的起始值和終止值\n",
    "        start, end = map(int, input().strip().split())\n",
    "        \n",
    "        # 找到並收集水仙花數\n",
    "        narcissistic_numbers = []\n",
    "        for number in range(start, end + 1):\n",
    "            if is_narcissistic(number):\n",
    "                narcissistic_numbers.append(str(number))\n",
    "        \n",
    "        # 輸出結果，以逗號分隔每個數字\n",
    "        print(\",\".join(narcissistic_numbers) + \",\")\n",
    "    except ValueError:\n",
    "        print(\"Invalid input\")\n",
    "\n",
    "if __name__ == \"__main__\":\n",
    "    main()\n"
   ]
  },
  {
   "cell_type": "code",
   "execution_count": null,
   "metadata": {},
   "outputs": [],
   "source": [
    "#35\n",
    "def is_narcissistic(number):\n",
    "    if 100 <= number <= 999:\n",
    "        a = number // 100\n",
    "        b = (number // 10) % 10\n",
    "        c = number % 10\n",
    "        return (a**3 + b**3 + c**3) == number\n",
    "    return False\n",
    "\n",
    "def main():\n",
    "    try:\n",
    "        start, end = map(int, input().strip().split())\n",
    "        narcissistic_numbers = []\n",
    "        for number in range(start, end + 1):\n",
    "            if is_narcissistic(number):\n",
    "                narcissistic_numbers.append(str(number))\n",
    "        print(\",\".join(narcissistic_numbers) + \",\")\n",
    "    except ValueError:\n",
    "        print(\"Invalid input\")\n",
    "\n",
    "if __name__ == \"__main__\":\n",
    "    main()\n"
   ]
  },
  {
   "cell_type": "code",
   "execution_count": 6,
   "metadata": {},
   "outputs": [
    {
     "name": "stdout",
     "output_type": "stream",
     "text": [
      "Tku \n"
     ]
    }
   ],
   "source": [
    "def main():\n",
    "    # 讀取使用者輸入的字串\n",
    "    user_input = input().strip()\n",
    "    \n",
    "    # 輸出結果，格式為 \"Tku 使用者輸入的字串\"\n",
    "    print(f\"Tku {user_input}\")\n",
    "\n",
    "if __name__ == \"__main__\":\n",
    "    main()\n"
   ]
  },
  {
   "cell_type": "code",
   "execution_count": null,
   "metadata": {},
   "outputs": [],
   "source": [
    "#36\n",
    "def main():\n",
    "    user_input = input().strip()\n",
    "    print(f\"Tku {user_input}\")\n",
    "\n",
    "if __name__ == \"__main__\":\n",
    "    main()"
   ]
  },
  {
   "cell_type": "code",
   "execution_count": null,
   "metadata": {},
   "outputs": [],
   "source": [
    "#37\n",
    "print(len(input()))"
   ]
  },
  {
   "cell_type": "code",
   "execution_count": null,
   "metadata": {},
   "outputs": [],
   "source": [
    "def main():\n",
    "    # 讀取使用者輸入的字串\n",
    "    user_input = input().strip()\n",
    "    \n",
    "    # 計算字串長度\n",
    "    length = len(user_input)\n",
    "    \n",
    "    # 以%格式化輸出字串長度至小數後2位\n",
    "    print(\"%.2f\" % length)\n",
    "\n",
    "if __name__ == \"__main__\":\n",
    "    main()\n"
   ]
  },
  {
   "cell_type": "code",
   "execution_count": null,
   "metadata": {},
   "outputs": [],
   "source": [
    "#38\n"
   ]
  },
  {
   "cell_type": "code",
   "execution_count": null,
   "metadata": {},
   "outputs": [],
   "source": [
    "def main():\n",
    "    # 讀取上底、下底和高度\n",
    "    top_base = float(input().strip())\n",
    "    bottom_base = float(input().strip())\n",
    "    height = float(input().strip())\n",
    "    \n",
    "    # 計算梯形面積\n",
    "    area = (top_base + bottom_base) * height / 2\n",
    "    \n",
    "    # 輸出面積結果\n",
    "    print(area)\n",
    "\n",
    "if __name__ == \"__main__\":\n",
    "    main()\n"
   ]
  },
  {
   "cell_type": "code",
   "execution_count": null,
   "metadata": {},
   "outputs": [],
   "source": [
    "#39\n",
    "top_base = float(input().strip())\n",
    "bottom_base = float(input().strip())\n",
    "height = float(input().strip())\n",
    "area = (top_base + bottom_base) * height / 2\n",
    "print(area)"
   ]
  },
  {
   "cell_type": "code",
   "execution_count": null,
   "metadata": {},
   "outputs": [],
   "source": [
    "def main():\n",
    "    # 讀取上底、下底和高度\n",
    "    top_base = float(input().strip())\n",
    "    bottom_base = float(input().strip())\n",
    "    height = float(input().strip())\n",
    "    \n",
    "    # 計算梯形面積\n",
    "    area = (top_base + bottom_base) * height / 2\n",
    "    \n",
    "    # 格式化輸出結果\n",
    "    print(f\"t={top_base} b={bottom_base} h={height} area={area}\")\n",
    "\n",
    "if __name__ == \"__main__\":\n",
    "    main()\n"
   ]
  },
  {
   "cell_type": "code",
   "execution_count": null,
   "metadata": {},
   "outputs": [],
   "source": [
    "#40\n",
    "top_base = float(input().strip())\n",
    "bottom_base = float(input().strip())\n",
    "height = float(input().strip())\n",
    "area = (top_base + bottom_base) * height / 2\n",
    "print(f\"t={top_base} b={bottom_base} h={height} area={area}\")"
   ]
  },
  {
   "cell_type": "code",
   "execution_count": null,
   "metadata": {},
   "outputs": [],
   "source": [
    "#41\n",
    "dividend = float(input())\n",
    "divisor = float(input())\n",
    "remainder = dividend % divisor\n",
    "print(remainder)"
   ]
  },
  {
   "cell_type": "code",
   "execution_count": null,
   "metadata": {},
   "outputs": [],
   "source": [
    "#43\n",
    "dividend = float(input())\n",
    "divisor = float(input())\n",
    "quotient = dividend / divisor\n",
    "print(quotient)"
   ]
  }
 ],
 "metadata": {
  "kernelspec": {
   "display_name": "Python 3",
   "language": "python",
   "name": "python3"
  },
  "language_info": {
   "codemirror_mode": {
    "name": "ipython",
    "version": 3
   },
   "file_extension": ".py",
   "mimetype": "text/x-python",
   "name": "python",
   "nbconvert_exporter": "python",
   "pygments_lexer": "ipython3",
   "version": "3.12.4"
  }
 },
 "nbformat": 4,
 "nbformat_minor": 2
}
