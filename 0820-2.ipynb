{
 "cells": [
  {
   "cell_type": "code",
   "execution_count": 1,
   "metadata": {},
   "outputs": [
    {
     "name": "stdout",
     "output_type": "stream",
     "text": [
      "0820-2\n"
     ]
    }
   ],
   "source": [
    "print(\"0820-2\")"
   ]
  },
  {
   "cell_type": "code",
   "execution_count": 5,
   "metadata": {},
   "outputs": [],
   "source": [
    "#Python_basic_4\n",
    "def main():\n",
    "    user_input = input()\n",
    "    items = user_input.split()\n",
    "    reversed_items = items[::-1]\n",
    "    output = ' '.join(reversed_items)\n",
    "    print(output)\n",
    "if __name__ == \"__main__\":\n",
    "    main()"
   ]
  },
  {
   "cell_type": "code",
   "execution_count": 6,
   "metadata": {},
   "outputs": [
    {
     "name": "stdout",
     "output_type": "stream",
     "text": [
      "5 is odd\n"
     ]
    }
   ],
   "source": [
    "n = int(input())\n",
    "if n<0 :\n",
    "  print(\"Input Eroor\")\n",
    "elif n%2==0 :\n",
    "  print(n, \"is even\")\n",
    "elif n%2!=0 :\n",
    "  print(n, \"is odd\")\n"
   ]
  },
  {
   "cell_type": "code",
   "execution_count": null,
   "metadata": {},
   "outputs": [],
   "source": [
    "#1 正確\n",
    "n = int(input())\n",
    "  \n",
    "if n<0 :\n",
    "  print(\"Input Error\")\n",
    "elif n%2==0 :\n",
    "  print(n,\"is even\")\n",
    "elif n%2!=0 :\n",
    "  print(n,\"is odd\")"
   ]
  },
  {
   "cell_type": "code",
   "execution_count": null,
   "metadata": {},
   "outputs": [],
   "source": [
    "n = int(input())\n",
    "\n",
    "if n >= 0:\n",
    "    \n",
    "    if n % 2 == 0:\n",
    "        print(\"is even\")\n",
    "    else:\n",
    "        print(\"is odd\")\n",
    "else:\n",
    "    print(\"Input Error\")"
   ]
  },
  {
   "cell_type": "code",
   "execution_count": null,
   "metadata": {},
   "outputs": [],
   "source": [
    "#10\n",
    "n = int(input())\n",
    "for i in range(1, n+1):\n",
    "  for j in range(1, i+1):\n",
    "    print(j, end=\"\")\n",
    "  print()"
   ]
  },
  {
   "cell_type": "code",
   "execution_count": null,
   "metadata": {},
   "outputs": [],
   "source": [
    "#12\n",
    "\n",
    "# 函數：計算兩數的最大公因數 (GCD)\n",
    "def gcd(a, b):\n",
    "    while b != 0:\n",
    "        a, b = b, a % b\n",
    "    return a\n",
    "\n",
    "# 函數：計算兩數的最小公倍數 (LCM)\n",
    "def lcm(a, b):\n",
    "    return abs(a * b) // gcd(a, b)\n",
    "\n",
    "# 主程式\n",
    "def main():\n",
    "    # 讓使用者輸入兩個整數\n",
    "    x, y = map(int, input(\"請輸入兩個整數（以空格分隔）: \").split())\n",
    "    \n",
    "    # 計算最小公倍數\n",
    "    result = lcm(x, y)\n",
    "    \n",
    "    # 輸出結果\n",
    "    print(result)\n",
    "\n",
    "# 執行主程式\n",
    "if __name__ == \"__main__\":\n",
    "    main()\n"
   ]
  },
  {
   "cell_type": "code",
   "execution_count": null,
   "metadata": {},
   "outputs": [],
   "source": [
    "#12\n",
    "def gcd(a, b):\n",
    "    while b != 0:\n",
    "        a, b = b, a % b\n",
    "    return a\n",
    "def lcm(a, b):\n",
    "    return abs(a * b) // gcd(a, b)\n",
    "def main():\n",
    "    x, y = map(int, input().split())\n",
    "    result = lcm(x, y)\n",
    "    print(result)\n",
    "if __name__ == \"__main__\":\n",
    "    main()"
   ]
  },
  {
   "cell_type": "code",
   "execution_count": null,
   "metadata": {},
   "outputs": [],
   "source": [
    "# 主程式\n",
    "def main():\n",
    "    # 讓使用者輸入一個字串\n",
    "    s = input(\"請輸入一個字串: \")\n",
    "    \n",
    "    # 轉換字串\n",
    "    result = ''\n",
    "    for i, char in enumerate(s):\n",
    "        if i % 2 == 0:\n",
    "            result += char.upper()  # 奇數位置（0起算）為大寫\n",
    "        else:\n",
    "            result += char.lower()  # 偶數位置為小寫\n",
    "    \n",
    "    # 輸出結果\n",
    "    print(result)\n",
    "\n",
    "# 執行主程式\n",
    "if __name__ == \"__main__\":\n",
    "    main()"
   ]
  },
  {
   "cell_type": "code",
   "execution_count": null,
   "metadata": {},
   "outputs": [],
   "source": [
    "#13\n",
    "def main():\n",
    "    s = input()\n",
    "    result = ''\n",
    "    for i, char in enumerate(s):\n",
    "        if i % 2 == 0:\n",
    "            result += char.upper()  # 奇數位置（0起算）為大寫\n",
    "        else:\n",
    "            result += char.lower()  # 偶數位置為小寫\n",
    "    print(result)\n",
    "if __name__ == \"__main__\":\n",
    "    main()\n"
   ]
  },
  {
   "cell_type": "code",
   "execution_count": null,
   "metadata": {},
   "outputs": [],
   "source": [
    "# 主程式\n",
    "def main():\n",
    "    # 讓使用者在同一行輸入三個整數\n",
    "    a, b, c = map(int, input(\"請輸入三個整數（以空格分隔）: \").split())\n",
    "    \n",
    "    # 判斷是否構成三角形\n",
    "    if (a + b > c) and (a + c > b) and (b + c > a):\n",
    "        print(\"Valid\")\n",
    "    else:\n",
    "        print(\"InValid\")\n",
    "\n",
    "# 執行主程式\n",
    "if __name__ == \"__main__\":\n",
    "    main()\n"
   ]
  },
  {
   "cell_type": "code",
   "execution_count": null,
   "metadata": {},
   "outputs": [],
   "source": [
    "#14\n",
    "def main():\n",
    "    a, b, c = map(int, input().split())\n",
    "    if (a + b > c) and (a + c > b) and (b + c > a):\n",
    "        print(\"Valid\")\n",
    "    else:\n",
    "        print(\"Invalid\")\n",
    "if __name__ == \"__main__\":\n",
    "    main()"
   ]
  },
  {
   "cell_type": "code",
   "execution_count": null,
   "metadata": {},
   "outputs": [],
   "source": [
    "# 主程式\n",
    "def main():\n",
    "    # 讓使用者輸入密碼\n",
    "    password = input(\"請輸入密碼: \")\n",
    "    \n",
    "    # 將每個字元轉換為 '*'\n",
    "    masked_password = '*' * len(password)\n",
    "    \n",
    "    # 輸出轉換後的密碼\n",
    "    print(masked_password)\n",
    "    \n",
    "    # 輸出密碼的長度\n",
    "    print(f\"total:{len(password)}\")\n",
    "\n",
    "# 執行主程式\n",
    "if __name__ == \"__main__\":\n",
    "    main()"
   ]
  },
  {
   "cell_type": "code",
   "execution_count": null,
   "metadata": {},
   "outputs": [],
   "source": [
    "#16 \n",
    "def main():\n",
    "    password = input()\n",
    "    masked_password = '*' * len(password)\n",
    "    print(masked_password)\n",
    "    print(f\"total:{len(password)}\")\n",
    "if __name__ == \"__main__\":\n",
    "    main()"
   ]
  },
  {
   "cell_type": "code",
   "execution_count": null,
   "metadata": {},
   "outputs": [],
   "source": [
    "# 主程式\n",
    "def main():\n",
    "    # 讓使用者輸入秒數\n",
    "    total_seconds = int(input(\"請輸入秒數: \"))\n",
    "    \n",
    "    # 計算時、分、秒\n",
    "    hours = total_seconds // 3600\n",
    "    minutes = (total_seconds % 3600) // 60\n",
    "    seconds = total_seconds % 60\n",
    "    \n",
    "    # 格式化輸出，確保時、分、秒皆為兩位數\n",
    "    time_formatted = f\"{hours:02}:{minutes:02}:{seconds:02}\"\n",
    "    \n",
    "    # 輸出結果\n",
    "    print(time_formatted)\n",
    "\n",
    "# 執行主程式\n",
    "if __name__ == \"__main__\":\n",
    "    main()\n"
   ]
  },
  {
   "cell_type": "code",
   "execution_count": null,
   "metadata": {},
   "outputs": [],
   "source": [
    "#17\n",
    "def main():\n",
    "    total_seconds = int(input())\n",
    "    hours = total_seconds // 3600\n",
    "    minutes = (total_seconds % 3600) // 60\n",
    "    seconds = total_seconds % 60\n",
    "    time_formatted = f\"{hours:02}:{minutes:02}:{seconds:02}\"\n",
    "    print(time_formatted)\n",
    "if __name__ == \"__main__\":\n",
    "    main()"
   ]
  },
  {
   "cell_type": "code",
   "execution_count": null,
   "metadata": {},
   "outputs": [],
   "source": [
    "# 主程式\n",
    "def main():\n",
    "    # 讓使用者輸入字串\n",
    "    user_input = input()\n",
    "    \n",
    "    # 輸出結果\n",
    "    print(f\"Ans {user_input}\")\n",
    "\n",
    "# 執行主程式\n",
    "if __name__ == \"__main__\":\n",
    "    main()"
   ]
  },
  {
   "cell_type": "code",
   "execution_count": null,
   "metadata": {},
   "outputs": [],
   "source": [
    "#21\n",
    "user_input = input()\n",
    "print(f\"Ans {user_input}\")"
   ]
  },
  {
   "cell_type": "code",
   "execution_count": null,
   "metadata": {},
   "outputs": [],
   "source": [
    "# 主程式\n",
    "def main():\n",
    "    # 讀取使用者輸入的學號，並以空格分開每個數字\n",
    "    numbers = input().split()\n",
    "    \n",
    "    # 將字串轉換為整數，並計算總和\n",
    "    total_sum = sum(int(num) for num in numbers)\n",
    "    \n",
    "    # 輸出總和\n",
    "    print(total_sum)\n",
    "\n",
    "# 執行主程式\n",
    "if __name__ == \"__main__\":\n",
    "    main()\n"
   ]
  },
  {
   "cell_type": "code",
   "execution_count": null,
   "metadata": {},
   "outputs": [],
   "source": [
    "#22\n",
    "numbers = input().split()\n",
    "total_sum = sum(int(num) for num in numbers)\n",
    "print(total_sum)"
   ]
  },
  {
   "cell_type": "code",
   "execution_count": null,
   "metadata": {},
   "outputs": [],
   "source": [
    "# 主程式\n",
    "def main():\n",
    "    # 讀取正整數 N\n",
    "    N = int(input().strip())\n",
    "    \n",
    "    # 計算從 10 到 N 的所有正整數的總和\n",
    "    first_term = 10\n",
    "    last_term = N\n",
    "    num_terms = last_term - first_term + 1\n",
    "    \n",
    "    # 使用等差數列求和公式計算總和\n",
    "    total_sum = num_terms * (first_term + last_term) // 2\n",
    "    \n",
    "    # 輸出結果\n",
    "    print(total_sum)\n",
    "\n",
    "# 執行主程式\n",
    "if __name__ == \"__main__\":\n",
    "    main()\n"
   ]
  },
  {
   "cell_type": "code",
   "execution_count": null,
   "metadata": {},
   "outputs": [],
   "source": [
    "#24\n",
    "N = int(input().strip())\n",
    "first_term = 10\n",
    "last_term = N\n",
    "num_terms = last_term - first_term + 1\n",
    "total_sum = num_terms * (first_term + last_term) // 2\n",
    "print(total_sum)\n"
   ]
  },
  {
   "cell_type": "code",
   "execution_count": null,
   "metadata": {},
   "outputs": [],
   "source": [
    "# 主程式\n",
    "def main():\n",
    "    # 讀取體溫，並轉換為浮點數\n",
    "    temperature = float(input().strip())\n",
    "    \n",
    "    # 根據體溫範圍判斷並輸出相應的提示\n",
    "    if temperature >= 37.5:\n",
    "        status = \"is over\"\n",
    "    elif 37.0 <= temperature < 37.5:\n",
    "        status = \"is little over\"\n",
    "    elif 36.0 <= temperature < 37.0:\n",
    "        status = \"is normal\"\n",
    "    else:\n",
    "        status = \"is error\"\n",
    "    \n",
    "    # 輸出結果，確保體溫保留一位小數\n",
    "    print(f\"{temperature:.1f} {status}\")\n",
    "\n",
    "# 執行主程式\n",
    "if __name__ == \"__main__\":\n",
    "    main()\n"
   ]
  },
  {
   "cell_type": "code",
   "execution_count": null,
   "metadata": {},
   "outputs": [],
   "source": [
    "#25\n",
    "temperature = float(input().strip())\n",
    "if temperature >= 37.5:\n",
    "    status = \"is over\"\n",
    "elif 37.0 <= temperature < 37.5:\n",
    "    status = \"is little over\"\n",
    "elif 36.0 <= temperature < 37.0:\n",
    "    status = \"is normal\"\n",
    "else:\n",
    "    status = \"is error\"\n",
    "print(f\"{temperature:.1f} {status}\")\n"
   ]
  },
  {
   "cell_type": "code",
   "execution_count": null,
   "metadata": {},
   "outputs": [],
   "source": [
    "# 主程式\n",
    "def main():\n",
    "    # 讀取使用者輸入的成績，並轉換為整數\n",
    "    score = int(input().strip())\n",
    "    \n",
    "    # 根據成績範圍判斷等第\n",
    "    if score < 0 or score > 100:\n",
    "        grade = \"error\"\n",
    "    elif score < 60:\n",
    "        grade = \"E\"\n",
    "    elif score < 70:\n",
    "        grade = \"D\"\n",
    "    elif score < 80:\n",
    "        grade = \"C\"\n",
    "    elif score < 90:\n",
    "        grade = \"B\"\n",
    "    else:\n",
    "        grade = \"A\"\n",
    "    \n",
    "    # 輸出結果，確保成績顯示為整數\n",
    "    print(f\"{score} is {grade}\")\n",
    "\n",
    "# 執行主程式\n",
    "if __name__ == \"__main__\":\n",
    "    main()\n"
   ]
  },
  {
   "cell_type": "code",
   "execution_count": null,
   "metadata": {},
   "outputs": [],
   "source": [
    "#26\n",
    "score = int(input().strip())\n",
    "if score < 0 or score > 100:\n",
    "    grade = \"error\"\n",
    "elif score < 60:\n",
    "    grade = \"E\"\n",
    "elif score < 70:\n",
    "    grade = \"D\"\n",
    "elif score < 80:\n",
    "    grade = \"C\"\n",
    "elif score < 90:\n",
    "    grade = \"B\"\n",
    "else:\n",
    "    grade = \"A\"\n",
    "print(f\"{score} is {grade}\")"
   ]
  },
  {
   "cell_type": "code",
   "execution_count": null,
   "metadata": {},
   "outputs": [],
   "source": [
    "# 主程式\n",
    "def main():\n",
    "    # 讀取使用者輸入的月份，並轉換為整數\n",
    "    month = int(input().strip())\n",
    "    \n",
    "    # 根據月份判斷季節\n",
    "    if month == 12 or month == 1 or month == 2:\n",
    "        season = \"winter\"\n",
    "    elif 3 <= month <= 5:\n",
    "        season = \"spring\"\n",
    "    elif 6 <= month <= 8:\n",
    "        season = \"summer\"\n",
    "    elif 9 <= month <= 11:\n",
    "        season = \"autumn\"\n",
    "    else:\n",
    "        season = \"input error\"\n",
    "    \n",
    "    # 輸出結果\n",
    "    print(f\"{month} is {season}\")\n",
    "\n",
    "# 執行主程式\n",
    "if __name__ == \"__main__\":\n",
    "    main()\n"
   ]
  },
  {
   "cell_type": "code",
   "execution_count": null,
   "metadata": {},
   "outputs": [],
   "source": [
    "#27\n"
   ]
  }
 ],
 "metadata": {
  "kernelspec": {
   "display_name": "Python 3",
   "language": "python",
   "name": "python3"
  },
  "language_info": {
   "codemirror_mode": {
    "name": "ipython",
    "version": 3
   },
   "file_extension": ".py",
   "mimetype": "text/x-python",
   "name": "python",
   "nbconvert_exporter": "python",
   "pygments_lexer": "ipython3",
   "version": "3.12.4"
  }
 },
 "nbformat": 4,
 "nbformat_minor": 2
}
