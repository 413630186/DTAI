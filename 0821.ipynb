{
 "cells": [
  {
   "cell_type": "code",
   "execution_count": 1,
   "metadata": {},
   "outputs": [
    {
     "name": "stdout",
     "output_type": "stream",
     "text": [
      "10\n"
     ]
    }
   ],
   "source": [
    "#5 找出三個數中的最小值\n",
    "a,b,c = input().split()\n",
    "int_a = int(a)\n",
    "int_b = int(b)\n",
    "int_c = int(c)\n",
    "min = int_a\n",
    "if(int_b <= min):\n",
    "    min = int_b\n",
    "if(int_c <= min):\n",
    "    min = int_c\n",
    "print(min)"
   ]
  },
  {
   "cell_type": "code",
   "execution_count": 8,
   "metadata": {},
   "outputs": [
    {
     "name": "stdout",
     "output_type": "stream",
     "text": [
      "2208\n"
     ]
    }
   ],
   "source": [
    "#8 輸入整數 n，計算 1 ~ n中，3或7的倍數總和(用for迴圈 + if判斷式) \n",
    "n = int(input())\n",
    "sum = 0\n",
    "for i in range (1, n+1):\n",
    "    if(i % 3 == 0 or i % 7 == 0):\n",
    "        sum += i\n",
    "print(sum)\n"
   ]
  },
  {
   "cell_type": "code",
   "execution_count": 2,
   "metadata": {},
   "outputs": [
    {
     "name": "stdout",
     "output_type": "stream",
     "text": [
      "*\n",
      "**\n",
      "***\n",
      "****\n",
      "*****\n"
     ]
    }
   ],
   "source": [
    "#9 輸入整數 n，會用＊印出靠左下的三角形。output的＊與＊之間不需要空格！\n",
    "n = int(input())\n",
    "for i in range(1, n+1):\n",
    "    for j in range(1, i+1):\n",
    "        print(\"*\", end =\"\")\n",
    "    print()"
   ]
  },
  {
   "cell_type": "code",
   "execution_count": 4,
   "metadata": {},
   "outputs": [
    {
     "name": "stdout",
     "output_type": "stream",
     "text": [
      "1\n",
      "12\n",
      "123\n",
      "1234\n"
     ]
    }
   ],
   "source": [
    "#10 輸入整數 n，會用連續數字印出靠左下的三角形。output的數字與數字之間不需要空格！\n",
    "n = int(input())\n",
    "for i in range(1, n+1):\n",
    "    for j in range(1, i+1):\n",
    "        print(j , end =\"\")\n",
    "    print()"
   ]
  },
  {
   "cell_type": "code",
   "execution_count": 22,
   "metadata": {},
   "outputs": [
    {
     "name": "stdout",
     "output_type": "stream",
     "text": [
      "Invalid\n"
     ]
    }
   ],
   "source": [
    "#14 使用者在同一行input 3個數(整數int型態)，並判斷是否構成三角形：任兩邊加起來要大於第三邊。\n",
    "a, b, c = map(int, input().split())\n",
    "if (a + b > c) and (a + c > b) and (b + c > a):\n",
    "    print(\"Valid\")\n",
    "else:\n",
    "    print(\"Invalid\")"
   ]
  },
  {
   "cell_type": "code",
   "execution_count": 7,
   "metadata": {},
   "outputs": [
    {
     "name": "stdout",
     "output_type": "stream",
     "text": [
      "2100 is common year\n"
     ]
    }
   ],
   "source": [
    "#18 判斷閏年的規則：1.除以 4 能整除，且除以 100 不能整除 2. 如果剛好是 100 的倍數，且除以 400 能整除\n",
    "year = int(input())\n",
    "if (year % 4 == 0 and year % 100 != 0) or (year % 100 == 0 and year % 400 == 0):\n",
    "    print(f\"{year} is leap year\")\n",
    "else:\n",
    "    print(f\"{year} is common year\")"
   ]
  },
  {
   "cell_type": "code",
   "execution_count": 9,
   "metadata": {},
   "outputs": [
    {
     "name": "stdout",
     "output_type": "stream",
     "text": [
      "5*1=5 5*2=10 5*3=15 5*4=20 5*5=25 5*6=30 5*7=35 5*8=40 5*9=45 \n",
      "6*1=6 6*2=12 6*3=18 6*4=24 6*5=30 6*6=36 6*7=42 6*8=48 6*9=54 \n",
      "7*1=7 7*2=14 7*3=21 7*4=28 7*5=35 7*6=42 7*7=49 7*8=56 7*9=63 \n",
      "8*1=8 8*2=16 8*3=24 8*4=32 8*5=40 8*6=48 8*7=56 8*8=64 8*9=72 \n",
      "9*1=9 9*2=18 9*3=27 9*4=36 9*5=45 9*6=54 9*7=63 9*8=72 9*9=81 \n"
     ]
    }
   ],
   "source": [
    "#19 input一個數，會印出該數到9的乘法表。用%d*%d=*d的方式格式化輸出\n",
    "n = int(input())\n",
    "for i in range(n, 10):\n",
    "    for j in range(1, 10):\n",
    "        print(\"%d*%d=%d\" % (i, j, i * j), end=' ')\n",
    "    print()"
   ]
  },
  {
   "cell_type": "code",
   "execution_count": 8,
   "metadata": {},
   "outputs": [
    {
     "name": "stdout",
     "output_type": "stream",
     "text": [
      "Ans apple\n"
     ]
    }
   ],
   "source": [
    "#21 Print字串\n",
    "a = input()\n",
    "print(f\"Ans {a}\")"
   ]
  },
  {
   "cell_type": "code",
   "execution_count": 11,
   "metadata": {},
   "outputs": [
    {
     "name": "stdout",
     "output_type": "stream",
     "text": [
      "21\n"
     ]
    }
   ],
   "source": [
    "#22 輸入學號(9碼)，並輸出學號各碼的總和\n",
    "n = input().split()\n",
    "total_sum = sum(int(num) for num in n)\n",
    "print(total_sum)"
   ]
  },
  {
   "cell_type": "code",
   "execution_count": 13,
   "metadata": {},
   "outputs": [
    {
     "name": "stdout",
     "output_type": "stream",
     "text": [
      "17\n"
     ]
    }
   ],
   "source": [
    "#23 取得字串長度\n",
    "print(len(input()))"
   ]
  },
  {
   "cell_type": "code",
   "execution_count": 16,
   "metadata": {},
   "outputs": [
    {
     "name": "stdout",
     "output_type": "stream",
     "text": [
      "-4 is error\n"
     ]
    }
   ],
   "source": [
    "#26 輸入成績後(整數型態)，並輸出該成績相關提示的文字(可用格式化方式撰寫)\n",
    "s = int(input().strip())\n",
    "if s < 0 or s > 100:\n",
    "    g = \"error\"\n",
    "elif s < 60:\n",
    "    g = \"E\"\n",
    "elif s < 70:\n",
    "    g = \"D\"\n",
    "elif s < 80:\n",
    "    g = \"C\"\n",
    "elif s < 90:\n",
    "    g = \"B\"\n",
    "else:\n",
    "    g = \"A\"\n",
    "print(f\"{s} is {g}\")"
   ]
  },
  {
   "cell_type": "code",
   "execution_count": 18,
   "metadata": {},
   "outputs": [
    {
     "name": "stdout",
     "output_type": "stream",
     "text": [
      "85% discount is 42500.0\n"
     ]
    }
   ],
   "source": [
    "#29 輸入購物金額後(整數型態)，並輸出消費者應付的價格為多少(可用格式化方式撰寫)。\n",
    "a =  int(input())\n",
    "if  a >= 100000:\n",
    "    print(\"80% discount is\",a * 0.8)\n",
    "elif a >= 50000:\n",
    "    print(\"85% discount is\",a * 0.85)\n",
    "elif a >= 30000:\n",
    "    print(\"90% discount is\",a * 0.9)\n",
    "elif a >= 10000:\n",
    "    print(\"95% discount is\",a * 0.95)\n",
    "elif a >= 0:\n",
    "    print(\"no discount is\",a * 1)"
   ]
  },
  {
   "cell_type": "code",
   "execution_count": 24,
   "metadata": {},
   "outputs": [
    {
     "name": "stdout",
     "output_type": "stream",
     "text": [
      "0,5,10,15,20,25,30,35,40,45,50,55,60,65,70,75,80,85,90,95,"
     ]
    }
   ],
   "source": [
    "#30 同一行同時輸入range三個參數 起始值、終止值、間隔值(整數型態)，利用 for 迴圈來輸出對應的數列，透過「,」進行分隔。\n",
    "a, b, c = map(int,input().split())\n",
    "for n in range(a, b, c):\n",
    "    print(n, end= \",\")"
   ]
  },
  {
   "cell_type": "code",
   "execution_count": 25,
   "metadata": {},
   "outputs": [
    {
     "name": "stdout",
     "output_type": "stream",
     "text": [
      "[3, 5, 7]\n"
     ]
    }
   ],
   "source": [
    "#32 同一行同時輸入range三個參數 起始值、終止值、間隔值(整數型態)，利用 range 輸出對應的串列。產出 range 後需強制轉型為 list 再輸出結果。\n",
    "a, b, c = map(int, input().split())\n",
    "n = range(a, b, c)\n",
    "m = list(n)\n",
    "print(m)"
   ]
  },
  {
   "cell_type": "code",
   "execution_count": 26,
   "metadata": {},
   "outputs": [
    {
     "name": "stdout",
     "output_type": "stream",
     "text": [
      "Valid\n"
     ]
    }
   ],
   "source": [
    "#33 在同一行input 3個數(整數int型態)，並判斷是否構成等腰三角形。構成等腰三角形要素：任兩邊的邊長一樣。\n",
    "a, b, c = map(int, input().split())\n",
    "if(a + b > c) and (a + c > b) and (b + c > a):\n",
    "    if a == b or a == c or b == c:\n",
    "        print(\"Valid\")\n",
    "    else:\n",
    "        print(\"Invalid\")\n",
    "else:\n",
    "    print(\"Invalid\")"
   ]
  },
  {
   "cell_type": "code",
   "execution_count": 27,
   "metadata": {},
   "outputs": [
    {
     "name": "stdout",
     "output_type": "stream",
     "text": [
      "park time:1h:9m\n",
      "pay:60 money\n"
     ]
    }
   ],
   "source": [
    "#34 輸入停車分鐘數(整數型態)，計算停車費：停車滿一小時$40元，如未滿一個小時則收費20元。當日最高收費為300元。\n",
    "minutes = int(input())\n",
    "h = minutes // 60\n",
    "n = minutes % 60\n",
    "if minutes <60:\n",
    "    print(\"park time:%sh:%sm\"%(h, n))\n",
    "    print(\"pay:%s money\")\n",
    "elif minutes >= 480:\n",
    "    print(\"park time:%sh:%sm\"%(h, n))\n",
    "    print(\"pay:%s money\"%300)\n",
    "elif minutes%60==0:\n",
    "    print(\"park time:%sh:%sm\"%(h, n))\n",
    "    print(\"pay:%s money\"%(h*40))\n",
    "else:\n",
    "    print(\"park time:%sh:%sm\"%(h, n))\n",
    "    print(\"pay:%s money\"%(h*40+20))"
   ]
  },
  {
   "cell_type": "code",
   "execution_count": 28,
   "metadata": {},
   "outputs": [
    {
     "name": "stdout",
     "output_type": "stream",
     "text": [
      "153,370,371,407,"
     ]
    }
   ],
   "source": [
    "#35 在同一行依序輸入 for 迴圈的起始值、終止值(皆為整數型態)後，在同一行輸出該範圍內的水仙花數，請用「,」分隔每個數字。\n",
    "a, b = map(int, input().split())\n",
    "for n in range(a,b):\n",
    "    if 100 <= n <= 999:\n",
    "        a = n // 100\n",
    "        b = (n // 10) % 10\n",
    "        c = n % 10\n",
    "        if (a**3 + b**3 + c**3) == n:\n",
    "            print(n, end=\",\")"
   ]
  },
  {
   "cell_type": "code",
   "execution_count": null,
   "metadata": {},
   "outputs": [],
   "source": [
    "#40 分三行依序輸入浮點數的上底、下底、高度，再計算出面積為何。(沒有指定需要輸出小數點至後幾位。)\n",
    "t = float(input().strip())\n",
    "b = float(input().strip())\n",
    "h = float(input().strip())\n",
    "area = (t + b) * h / 2\n",
    "print(f\"t={t} b={b} h={h} area={area}\")"
   ]
  },
  {
   "cell_type": "code",
   "execution_count": 21,
   "metadata": {},
   "outputs": [
    {
     "name": "stdout",
     "output_type": "stream",
     "text": [
      "2.5\n"
     ]
    }
   ],
   "source": [
    "#41 兩行依序輸入浮點數的被除數、除數，最後再計算出餘數。\n",
    "a = float(input())\n",
    "b = float(input())\n",
    "c = a % b\n",
    "print(c)"
   ]
  },
  {
   "cell_type": "code",
   "execution_count": 20,
   "metadata": {},
   "outputs": [
    {
     "name": "stdout",
     "output_type": "stream",
     "text": [
      "10.858695652173914\n"
     ]
    }
   ],
   "source": [
    "#43 分兩行依序輸入浮點數的被除數、除數，最後再計算出商數(至小數部分)。需要用到float指令。\n",
    "a = float(input())\n",
    "b = float(input())\n",
    "c = a / b\n",
    "print(c)"
   ]
  },
  {
   "cell_type": "code",
   "execution_count": null,
   "metadata": {},
   "outputs": [],
   "source": []
  }
 ],
 "metadata": {
  "kernelspec": {
   "display_name": "Python 3",
   "language": "python",
   "name": "python3"
  },
  "language_info": {
   "codemirror_mode": {
    "name": "ipython",
    "version": 3
   },
   "file_extension": ".py",
   "mimetype": "text/x-python",
   "name": "python",
   "nbconvert_exporter": "python",
   "pygments_lexer": "ipython3",
   "version": "3.11.9"
  }
 },
 "nbformat": 4,
 "nbformat_minor": 2
}
