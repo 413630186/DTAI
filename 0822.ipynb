{
 "cells": [
  {
   "cell_type": "code",
   "execution_count": 1,
   "metadata": {},
   "outputs": [
    {
     "name": "stdout",
     "output_type": "stream",
     "text": [
      "0822\n"
     ]
    }
   ],
   "source": [
    "print(\"0822\")"
   ]
  },
  {
   "cell_type": "code",
   "execution_count": 2,
   "metadata": {},
   "outputs": [
    {
     "name": "stdout",
     "output_type": "stream",
     "text": [
      "2.5\n"
     ]
    }
   ],
   "source": [
    "#1\n",
    "a = float(input())\n",
    "b = float(input())\n",
    "c = a % b\n",
    "print(c)"
   ]
  },
  {
   "cell_type": "code",
   "execution_count": 3,
   "metadata": {},
   "outputs": [
    {
     "name": "stdout",
     "output_type": "stream",
     "text": [
      "153,370,371,407,"
     ]
    }
   ],
   "source": [
    "#10\n",
    "a, b = map(int, input().split())\n",
    "for n in range(a,b):\n",
    "    if 100 <= n <= 999:\n",
    "        a = n // 100\n",
    "        b = (n // 10) % 10\n",
    "        c = n % 10\n",
    "        if (a**3 + b**3 + c**3) == n:\n",
    "            print(n, end=\",\")"
   ]
  },
  {
   "cell_type": "code",
   "execution_count": 4,
   "metadata": {},
   "outputs": [
    {
     "name": "stdout",
     "output_type": "stream",
     "text": [
      "t=9.0 b=14.0 h=8.2 area=94.3\n"
     ]
    }
   ],
   "source": [
    "#2\n",
    "t = float(input().strip())\n",
    "b = float(input().strip())\n",
    "h = float(input().strip())\n",
    "area = (t + b) * h / 2\n",
    "print(f\"t={t} b={b} h={h} area={area}\")"
   ]
  },
  {
   "cell_type": "code",
   "execution_count": 5,
   "metadata": {},
   "outputs": [
    {
     "name": "stdout",
     "output_type": "stream",
     "text": [
      "park time:1h:9m\n",
      "pay:60 money\n"
     ]
    }
   ],
   "source": [
    "#3\n",
    "minutes = int(input())\n",
    "h = minutes // 60\n",
    "n = minutes % 60\n",
    "if minutes <60:\n",
    "    print(\"park time:%sh:%sm\"%(h, n))\n",
    "    print(\"pay:%s money\")\n",
    "elif minutes >= 480:\n",
    "    print(\"park time:%sh:%sm\"%(h, n))\n",
    "    print(\"pay:%s money\"%300)\n",
    "elif minutes%60==0:\n",
    "    print(\"park time:%sh:%sm\"%(h, n))\n",
    "    print(\"pay:%s money\"%(h*40))\n",
    "else:\n",
    "    print(\"park time:%sh:%sm\"%(h, n))\n",
    "    print(\"pay:%s money\"%(h*40+20))"
   ]
  },
  {
   "cell_type": "code",
   "execution_count": 6,
   "metadata": {},
   "outputs": [
    {
     "name": "stdout",
     "output_type": "stream",
     "text": [
      "[11, 18, 25, 32, 39, 46, 53, 60, 67, 74, 81, 88, 95]\n"
     ]
    }
   ],
   "source": [
    "#4\n",
    "a, b, c = map(int, input().split())\n",
    "n = range(a, b, c)\n",
    "m = list(n)\n",
    "print(m)"
   ]
  },
  {
   "cell_type": "code",
   "execution_count": 7,
   "metadata": {},
   "outputs": [
    {
     "name": "stdout",
     "output_type": "stream",
     "text": [
      "2100 is common year\n"
     ]
    }
   ],
   "source": [
    "#5\n",
    "year = int(input())\n",
    "if (year % 4 == 0 and year % 100 != 0) or (year % 100 == 0 and year % 400 == 0):\n",
    "    print(f\"{year} is leap year\")\n",
    "else:\n",
    "    print(f\"{year} is common year\")"
   ]
  },
  {
   "cell_type": "code",
   "execution_count": 8,
   "metadata": {},
   "outputs": [
    {
     "name": "stdout",
     "output_type": "stream",
     "text": [
      "-4 is error\n"
     ]
    }
   ],
   "source": [
    "#6\n",
    "s = int(input().strip())\n",
    "if s < 0 or s > 100:\n",
    "    g = \"error\"\n",
    "elif s < 60:\n",
    "    g = \"E\"\n",
    "elif s < 70:\n",
    "    g = \"D\"\n",
    "elif s < 80:\n",
    "    g = \"C\"\n",
    "elif s < 90:\n",
    "    g = \"B\"\n",
    "else:\n",
    "    g = \"A\"\n",
    "print(f\"{s} is {g}\")"
   ]
  },
  {
   "cell_type": "code",
   "execution_count": 10,
   "metadata": {},
   "outputs": [
    {
     "name": "stdout",
     "output_type": "stream",
     "text": [
      "-10,-8,-6,-4,-2,"
     ]
    }
   ],
   "source": [
    "#7\n",
    "a, b, c = map(int,input().split())\n",
    "for n in range(a, b, c):\n",
    "    print(n, end= \",\")"
   ]
  },
  {
   "cell_type": "code",
   "execution_count": 11,
   "metadata": {},
   "outputs": [
    {
     "name": "stdout",
     "output_type": "stream",
     "text": [
      "*\n",
      "**\n",
      "***\n",
      "****\n",
      "*****\n",
      "******\n",
      "*******\n",
      "********\n",
      "*********\n",
      "**********\n"
     ]
    }
   ],
   "source": [
    "#8\n",
    "n = int(input())\n",
    "for i in range(1, n+1):\n",
    "    for j in range(1, i+1):\n",
    "        print(\"*\", end =\"\")\n",
    "    print()"
   ]
  },
  {
   "cell_type": "code",
   "execution_count": 13,
   "metadata": {},
   "outputs": [
    {
     "name": "stdout",
     "output_type": "stream",
     "text": [
      "5*1=5 5*2=10 5*3=15 5*4=20 5*5=25 5*6=30 5*7=35 5*8=40 5*9=45 \n",
      "6*1=6 6*2=12 6*3=18 6*4=24 6*5=30 6*6=36 6*7=42 6*8=48 6*9=54 \n",
      "7*1=7 7*2=14 7*3=21 7*4=28 7*5=35 7*6=42 7*7=49 7*8=56 7*9=63 \n",
      "8*1=8 8*2=16 8*3=24 8*4=32 8*5=40 8*6=48 8*7=56 8*8=64 8*9=72 \n",
      "9*1=9 9*2=18 9*3=27 9*4=36 9*5=45 9*6=54 9*7=63 9*8=72 9*9=81 \n"
     ]
    }
   ],
   "source": [
    "#9\n",
    "n = int(input())\n",
    "for i in range(n, 10):\n",
    "    for j in range(1, 10):\n",
    "        print(\"%d*%d=%d\" % (i, j, i * j), end=' ')\n",
    "    print()"
   ]
  }
 ],
 "metadata": {
  "kernelspec": {
   "display_name": "Python 3",
   "language": "python",
   "name": "python3"
  },
  "language_info": {
   "codemirror_mode": {
    "name": "ipython",
    "version": 3
   },
   "file_extension": ".py",
   "mimetype": "text/x-python",
   "name": "python",
   "nbconvert_exporter": "python",
   "pygments_lexer": "ipython3",
   "version": "3.12.4"
  }
 },
 "nbformat": 4,
 "nbformat_minor": 2
}
